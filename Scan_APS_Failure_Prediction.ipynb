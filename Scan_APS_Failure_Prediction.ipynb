{
 "cells": [
  {
   "cell_type": "markdown",
   "id": "3093c14b",
   "metadata": {},
   "source": [
    "**1) Problem statement**\n",
    "\n",
    "Data: Sensor Data\n",
    "\n",
    "Problem statement"
   ]
  },
  {
   "cell_type": "markdown",
   "id": "a5de82f3",
   "metadata": {},
   "source": [
    "- The system in focus is the Air Pressure system (APS) which generates pressurized air that are utilized in various functions in a truck, such as braking and gear changes. The datasets positive class corresponds to component failures for a specific component of the APS system. The negative class corresponds to trucks with failures for components not related to the APS system.\n",
    "\n",
    "- The problem is to reduce the cost due to unnecessary repairs. So it is required to minimize the false predictions.\n",
    "\n",
    "- Cost1 = 10 and Cost2 = 500\n",
    "\n",
    "- The total cost of a prediction model the sum of 'Cost_1' multiplied by the number of Instances with type 1 failure and 'Cost_2' with the number of instances with type 2 failure, resulting in a \"Total_cosť. In this case 'Cost_1' refers to the cost that an unnecessary check needs to be done by an mechanic at an workshop, while 'Cost_2' refer to the cost of missing a faulty truck, which may cause a breakdown.\n",
    "\n",
    "- Total_cost = Cost_1* No_Instances + Cost_2* No_Instances\n",
    "\n",
    "- From the above problem statement we could observe that, we have to reduce false positives and false negatives. More importantly we have to \"reduce fae negatives, since cost incurred due to false negative is 50 times higher than the false positives."
   ]
  },
  {
   "cell_type": "markdown",
   "id": "58de2eba",
   "metadata": {},
   "source": [
    "**Challenges and Other Objectives**\n",
    "\n",
    "- Need to handle many Null values in almost all columns\n",
    "- No low - latency requirement.\n",
    "- Interpretability is not important.\n",
    "- Misclassification leads the unecessary repair cots."
   ]
  },
  {
   "cell_type": "markdown",
   "id": "5117bacf",
   "metadata": {},
   "source": [
    "**2) Import required libraries**"
   ]
  },
  {
   "cell_type": "code",
   "execution_count": 1,
   "id": "bf291585",
   "metadata": {},
   "outputs": [],
   "source": [
    "import pandas as pd\n",
    "import numpy as np\n",
    "import seaborn as sns\n",
    "import matplotlib.pyplot as plt\n",
    "import warnings\n",
    "import plotly.graph_objects as go\n",
    "\n",
    "from statistics import mean\n",
    "\n",
    "from sklearn.preprocessing import PowerTransformer\n",
    "from sklearn.preprocessing import LabelEncoder\n",
    "from sklearn.preprocessing import OneHotEncoder, MinMaxScaler\n",
    "from sklearn.preprocessing import StandardScaler, MinMaxScaler, RobustScaler\n",
    "\n",
    "from sklearn.pipeline import Pipeline\n",
    "from sklearn.utils import resample\n",
    "\n",
    "from sklearn.model_selection import train_test_split, RepeatedStratifiedKFold, cross_val_score\n",
    "\n",
    "from sklearn.linear_model import LogisticRegression\n",
    "from sklearn.ensemble import RandomForestClassifier, AdaBoostClassifier , GradientBoostingClassifier\n",
    "from sklearn.neighbors import KNeighborsClassifier\n",
    "from sklearn.tree import DecisionTreeClassifier\n",
    "from sklearn.svm import SVC\n",
    "\n",
    "from sklearn.compose import ColumnTransformer\n",
    "\n",
    "from sklearn.impute import SimpleImputer, KNNImputer\n",
    "\n",
    "from sklearn import metrics\n",
    "\n",
    "from xgboost import XGBClassifier\n",
    "from catboost import CatBoostClassifier\n",
    "\n",
    "from sklearn.metrics import accuracy_score, classification_report, ConfusionMatrixDisplay, precision_score, recall_score, f1_score, roc_auc_score, roc_curve, confusion_matrix\n",
    "\n",
    "\n",
    "warnings.filterwarnings(\"ignore\")\n",
    "%matplotlib inline\n",
    "\n"
   ]
  },
  {
   "cell_type": "markdown",
   "id": "50a278c9",
   "metadata": {},
   "source": [
    "**Read Data**"
   ]
  },
  {
   "cell_type": "code",
   "execution_count": 2,
   "id": "6939a772",
   "metadata": {},
   "outputs": [
    {
     "data": {
      "text/html": [
       "<div>\n",
       "<style scoped>\n",
       "    .dataframe tbody tr th:only-of-type {\n",
       "        vertical-align: middle;\n",
       "    }\n",
       "\n",
       "    .dataframe tbody tr th {\n",
       "        vertical-align: top;\n",
       "    }\n",
       "\n",
       "    .dataframe thead th {\n",
       "        text-align: right;\n",
       "    }\n",
       "</style>\n",
       "<table border=\"1\" class=\"dataframe\">\n",
       "  <thead>\n",
       "    <tr style=\"text-align: right;\">\n",
       "      <th></th>\n",
       "      <th>class</th>\n",
       "      <th>aa_000</th>\n",
       "      <th>ab_000</th>\n",
       "      <th>ac_000</th>\n",
       "      <th>ad_000</th>\n",
       "      <th>ae_000</th>\n",
       "      <th>af_000</th>\n",
       "      <th>ag_000</th>\n",
       "      <th>ag_001</th>\n",
       "      <th>ag_002</th>\n",
       "      <th>...</th>\n",
       "      <th>ee_002</th>\n",
       "      <th>ee_003</th>\n",
       "      <th>ee_004</th>\n",
       "      <th>ee_005</th>\n",
       "      <th>ee_006</th>\n",
       "      <th>ee_007</th>\n",
       "      <th>ee_008</th>\n",
       "      <th>ee_009</th>\n",
       "      <th>ef_000</th>\n",
       "      <th>eg_000</th>\n",
       "    </tr>\n",
       "  </thead>\n",
       "  <tbody>\n",
       "    <tr>\n",
       "      <th>0</th>\n",
       "      <td>pos</td>\n",
       "      <td>153204</td>\n",
       "      <td>0.0</td>\n",
       "      <td>1.820000e+02</td>\n",
       "      <td>NaN</td>\n",
       "      <td>0.0</td>\n",
       "      <td>0.0</td>\n",
       "      <td>0.0</td>\n",
       "      <td>0.0</td>\n",
       "      <td>0.0</td>\n",
       "      <td>...</td>\n",
       "      <td>129862.0</td>\n",
       "      <td>26872.0</td>\n",
       "      <td>34044.0</td>\n",
       "      <td>22472.0</td>\n",
       "      <td>34362.0</td>\n",
       "      <td>0.0</td>\n",
       "      <td>0.0</td>\n",
       "      <td>0.0</td>\n",
       "      <td>0.0</td>\n",
       "      <td>0.0</td>\n",
       "    </tr>\n",
       "    <tr>\n",
       "      <th>1</th>\n",
       "      <td>pos</td>\n",
       "      <td>453236</td>\n",
       "      <td>NaN</td>\n",
       "      <td>2.926000e+03</td>\n",
       "      <td>NaN</td>\n",
       "      <td>0.0</td>\n",
       "      <td>0.0</td>\n",
       "      <td>0.0</td>\n",
       "      <td>0.0</td>\n",
       "      <td>222.0</td>\n",
       "      <td>...</td>\n",
       "      <td>7908038.0</td>\n",
       "      <td>3026002.0</td>\n",
       "      <td>5025350.0</td>\n",
       "      <td>2025766.0</td>\n",
       "      <td>1160638.0</td>\n",
       "      <td>533834.0</td>\n",
       "      <td>493800.0</td>\n",
       "      <td>6914.0</td>\n",
       "      <td>0.0</td>\n",
       "      <td>0.0</td>\n",
       "    </tr>\n",
       "    <tr>\n",
       "      <th>2</th>\n",
       "      <td>pos</td>\n",
       "      <td>72504</td>\n",
       "      <td>NaN</td>\n",
       "      <td>1.594000e+03</td>\n",
       "      <td>1052.0</td>\n",
       "      <td>0.0</td>\n",
       "      <td>0.0</td>\n",
       "      <td>0.0</td>\n",
       "      <td>244.0</td>\n",
       "      <td>178226.0</td>\n",
       "      <td>...</td>\n",
       "      <td>1432098.0</td>\n",
       "      <td>372252.0</td>\n",
       "      <td>527514.0</td>\n",
       "      <td>358274.0</td>\n",
       "      <td>332818.0</td>\n",
       "      <td>284178.0</td>\n",
       "      <td>3742.0</td>\n",
       "      <td>0.0</td>\n",
       "      <td>0.0</td>\n",
       "      <td>0.0</td>\n",
       "    </tr>\n",
       "    <tr>\n",
       "      <th>3</th>\n",
       "      <td>pos</td>\n",
       "      <td>762958</td>\n",
       "      <td>NaN</td>\n",
       "      <td>NaN</td>\n",
       "      <td>NaN</td>\n",
       "      <td>NaN</td>\n",
       "      <td>NaN</td>\n",
       "      <td>776.0</td>\n",
       "      <td>281128.0</td>\n",
       "      <td>2186308.0</td>\n",
       "      <td>...</td>\n",
       "      <td>NaN</td>\n",
       "      <td>NaN</td>\n",
       "      <td>NaN</td>\n",
       "      <td>NaN</td>\n",
       "      <td>NaN</td>\n",
       "      <td>NaN</td>\n",
       "      <td>NaN</td>\n",
       "      <td>NaN</td>\n",
       "      <td>NaN</td>\n",
       "      <td>NaN</td>\n",
       "    </tr>\n",
       "    <tr>\n",
       "      <th>4</th>\n",
       "      <td>pos</td>\n",
       "      <td>695994</td>\n",
       "      <td>NaN</td>\n",
       "      <td>NaN</td>\n",
       "      <td>NaN</td>\n",
       "      <td>NaN</td>\n",
       "      <td>NaN</td>\n",
       "      <td>0.0</td>\n",
       "      <td>0.0</td>\n",
       "      <td>0.0</td>\n",
       "      <td>...</td>\n",
       "      <td>1397742.0</td>\n",
       "      <td>495544.0</td>\n",
       "      <td>361646.0</td>\n",
       "      <td>28610.0</td>\n",
       "      <td>5130.0</td>\n",
       "      <td>212.0</td>\n",
       "      <td>0.0</td>\n",
       "      <td>0.0</td>\n",
       "      <td>NaN</td>\n",
       "      <td>NaN</td>\n",
       "    </tr>\n",
       "    <tr>\n",
       "      <th>...</th>\n",
       "      <td>...</td>\n",
       "      <td>...</td>\n",
       "      <td>...</td>\n",
       "      <td>...</td>\n",
       "      <td>...</td>\n",
       "      <td>...</td>\n",
       "      <td>...</td>\n",
       "      <td>...</td>\n",
       "      <td>...</td>\n",
       "      <td>...</td>\n",
       "      <td>...</td>\n",
       "      <td>...</td>\n",
       "      <td>...</td>\n",
       "      <td>...</td>\n",
       "      <td>...</td>\n",
       "      <td>...</td>\n",
       "      <td>...</td>\n",
       "      <td>...</td>\n",
       "      <td>...</td>\n",
       "      <td>...</td>\n",
       "      <td>...</td>\n",
       "    </tr>\n",
       "    <tr>\n",
       "      <th>36183</th>\n",
       "      <td>neg</td>\n",
       "      <td>153002</td>\n",
       "      <td>NaN</td>\n",
       "      <td>6.640000e+02</td>\n",
       "      <td>186.0</td>\n",
       "      <td>0.0</td>\n",
       "      <td>0.0</td>\n",
       "      <td>0.0</td>\n",
       "      <td>0.0</td>\n",
       "      <td>0.0</td>\n",
       "      <td>...</td>\n",
       "      <td>998500.0</td>\n",
       "      <td>566884.0</td>\n",
       "      <td>1290398.0</td>\n",
       "      <td>1218244.0</td>\n",
       "      <td>1019768.0</td>\n",
       "      <td>717762.0</td>\n",
       "      <td>898642.0</td>\n",
       "      <td>28588.0</td>\n",
       "      <td>0.0</td>\n",
       "      <td>0.0</td>\n",
       "    </tr>\n",
       "    <tr>\n",
       "      <th>36184</th>\n",
       "      <td>neg</td>\n",
       "      <td>2286</td>\n",
       "      <td>NaN</td>\n",
       "      <td>2.130707e+09</td>\n",
       "      <td>224.0</td>\n",
       "      <td>0.0</td>\n",
       "      <td>0.0</td>\n",
       "      <td>0.0</td>\n",
       "      <td>0.0</td>\n",
       "      <td>0.0</td>\n",
       "      <td>...</td>\n",
       "      <td>10578.0</td>\n",
       "      <td>6760.0</td>\n",
       "      <td>21126.0</td>\n",
       "      <td>68424.0</td>\n",
       "      <td>136.0</td>\n",
       "      <td>0.0</td>\n",
       "      <td>0.0</td>\n",
       "      <td>0.0</td>\n",
       "      <td>0.0</td>\n",
       "      <td>0.0</td>\n",
       "    </tr>\n",
       "    <tr>\n",
       "      <th>36185</th>\n",
       "      <td>neg</td>\n",
       "      <td>112</td>\n",
       "      <td>0.0</td>\n",
       "      <td>2.130706e+09</td>\n",
       "      <td>18.0</td>\n",
       "      <td>0.0</td>\n",
       "      <td>0.0</td>\n",
       "      <td>0.0</td>\n",
       "      <td>0.0</td>\n",
       "      <td>0.0</td>\n",
       "      <td>...</td>\n",
       "      <td>792.0</td>\n",
       "      <td>386.0</td>\n",
       "      <td>452.0</td>\n",
       "      <td>144.0</td>\n",
       "      <td>146.0</td>\n",
       "      <td>2622.0</td>\n",
       "      <td>0.0</td>\n",
       "      <td>0.0</td>\n",
       "      <td>0.0</td>\n",
       "      <td>0.0</td>\n",
       "    </tr>\n",
       "    <tr>\n",
       "      <th>36186</th>\n",
       "      <td>neg</td>\n",
       "      <td>80292</td>\n",
       "      <td>NaN</td>\n",
       "      <td>2.130706e+09</td>\n",
       "      <td>494.0</td>\n",
       "      <td>0.0</td>\n",
       "      <td>0.0</td>\n",
       "      <td>0.0</td>\n",
       "      <td>0.0</td>\n",
       "      <td>0.0</td>\n",
       "      <td>...</td>\n",
       "      <td>699352.0</td>\n",
       "      <td>222654.0</td>\n",
       "      <td>347378.0</td>\n",
       "      <td>225724.0</td>\n",
       "      <td>194440.0</td>\n",
       "      <td>165070.0</td>\n",
       "      <td>802280.0</td>\n",
       "      <td>388422.0</td>\n",
       "      <td>0.0</td>\n",
       "      <td>0.0</td>\n",
       "    </tr>\n",
       "    <tr>\n",
       "      <th>36187</th>\n",
       "      <td>neg</td>\n",
       "      <td>40222</td>\n",
       "      <td>NaN</td>\n",
       "      <td>6.980000e+02</td>\n",
       "      <td>628.0</td>\n",
       "      <td>0.0</td>\n",
       "      <td>0.0</td>\n",
       "      <td>0.0</td>\n",
       "      <td>0.0</td>\n",
       "      <td>0.0</td>\n",
       "      <td>...</td>\n",
       "      <td>440066.0</td>\n",
       "      <td>183200.0</td>\n",
       "      <td>344546.0</td>\n",
       "      <td>254068.0</td>\n",
       "      <td>225148.0</td>\n",
       "      <td>158304.0</td>\n",
       "      <td>170384.0</td>\n",
       "      <td>158.0</td>\n",
       "      <td>0.0</td>\n",
       "      <td>0.0</td>\n",
       "    </tr>\n",
       "  </tbody>\n",
       "</table>\n",
       "<p>36188 rows × 171 columns</p>\n",
       "</div>"
      ],
      "text/plain": [
       "      class  aa_000  ab_000        ac_000  ad_000  ae_000  af_000  ag_000  \\\n",
       "0       pos  153204     0.0  1.820000e+02     NaN     0.0     0.0     0.0   \n",
       "1       pos  453236     NaN  2.926000e+03     NaN     0.0     0.0     0.0   \n",
       "2       pos   72504     NaN  1.594000e+03  1052.0     0.0     0.0     0.0   \n",
       "3       pos  762958     NaN           NaN     NaN     NaN     NaN   776.0   \n",
       "4       pos  695994     NaN           NaN     NaN     NaN     NaN     0.0   \n",
       "...     ...     ...     ...           ...     ...     ...     ...     ...   \n",
       "36183   neg  153002     NaN  6.640000e+02   186.0     0.0     0.0     0.0   \n",
       "36184   neg    2286     NaN  2.130707e+09   224.0     0.0     0.0     0.0   \n",
       "36185   neg     112     0.0  2.130706e+09    18.0     0.0     0.0     0.0   \n",
       "36186   neg   80292     NaN  2.130706e+09   494.0     0.0     0.0     0.0   \n",
       "36187   neg   40222     NaN  6.980000e+02   628.0     0.0     0.0     0.0   \n",
       "\n",
       "         ag_001     ag_002  ...     ee_002     ee_003     ee_004     ee_005  \\\n",
       "0           0.0        0.0  ...   129862.0    26872.0    34044.0    22472.0   \n",
       "1           0.0      222.0  ...  7908038.0  3026002.0  5025350.0  2025766.0   \n",
       "2         244.0   178226.0  ...  1432098.0   372252.0   527514.0   358274.0   \n",
       "3      281128.0  2186308.0  ...        NaN        NaN        NaN        NaN   \n",
       "4           0.0        0.0  ...  1397742.0   495544.0   361646.0    28610.0   \n",
       "...         ...        ...  ...        ...        ...        ...        ...   \n",
       "36183       0.0        0.0  ...   998500.0   566884.0  1290398.0  1218244.0   \n",
       "36184       0.0        0.0  ...    10578.0     6760.0    21126.0    68424.0   \n",
       "36185       0.0        0.0  ...      792.0      386.0      452.0      144.0   \n",
       "36186       0.0        0.0  ...   699352.0   222654.0   347378.0   225724.0   \n",
       "36187       0.0        0.0  ...   440066.0   183200.0   344546.0   254068.0   \n",
       "\n",
       "          ee_006    ee_007    ee_008    ee_009  ef_000  eg_000  \n",
       "0        34362.0       0.0       0.0       0.0     0.0     0.0  \n",
       "1      1160638.0  533834.0  493800.0    6914.0     0.0     0.0  \n",
       "2       332818.0  284178.0    3742.0       0.0     0.0     0.0  \n",
       "3            NaN       NaN       NaN       NaN     NaN     NaN  \n",
       "4         5130.0     212.0       0.0       0.0     NaN     NaN  \n",
       "...          ...       ...       ...       ...     ...     ...  \n",
       "36183  1019768.0  717762.0  898642.0   28588.0     0.0     0.0  \n",
       "36184      136.0       0.0       0.0       0.0     0.0     0.0  \n",
       "36185      146.0    2622.0       0.0       0.0     0.0     0.0  \n",
       "36186   194440.0  165070.0  802280.0  388422.0     0.0     0.0  \n",
       "36187   225148.0  158304.0  170384.0     158.0     0.0     0.0  \n",
       "\n",
       "[36188 rows x 171 columns]"
      ]
     },
     "execution_count": 2,
     "metadata": {},
     "output_type": "execute_result"
    }
   ],
   "source": [
    "df = pd.read_csv(r'Dataset\\aps_failure_training_set1.csv', na_values=\"na\")\n",
    "df"
   ]
  },
  {
   "cell_type": "code",
   "execution_count": 3,
   "id": "017a28b0",
   "metadata": {},
   "outputs": [
    {
     "data": {
      "text/plain": [
       "class\n",
       "neg    35188\n",
       "pos     1000\n",
       "Name: count, dtype: int64"
      ]
     },
     "execution_count": 3,
     "metadata": {},
     "output_type": "execute_result"
    }
   ],
   "source": [
    "# check uniquie values of target variable\n",
    "\n",
    "df['class'].value_counts()  # unbalanced dataset  :  neg -> 35188, pos -> 1000"
   ]
  },
  {
   "cell_type": "code",
   "execution_count": 4,
   "id": "b712a284",
   "metadata": {},
   "outputs": [
    {
     "name": "stdout",
     "output_type": "stream",
     "text": [
      "We have 170 numerical features : ['aa_000', 'ab_000', 'ac_000', 'ad_000', 'ae_000', 'af_000', 'ag_000', 'ag_001', 'ag_002', 'ag_003', 'ag_004', 'ag_005', 'ag_006', 'ag_007', 'ag_008', 'ag_009', 'ah_000', 'ai_000', 'aj_000', 'ak_000', 'al_000', 'am_0', 'an_000', 'ao_000', 'ap_000', 'aq_000', 'ar_000', 'as_000', 'at_000', 'au_000', 'av_000', 'ax_000', 'ay_000', 'ay_001', 'ay_002', 'ay_003', 'ay_004', 'ay_005', 'ay_006', 'ay_007', 'ay_008', 'ay_009', 'az_000', 'az_001', 'az_002', 'az_003', 'az_004', 'az_005', 'az_006', 'az_007', 'az_008', 'az_009', 'ba_000', 'ba_001', 'ba_002', 'ba_003', 'ba_004', 'ba_005', 'ba_006', 'ba_007', 'ba_008', 'ba_009', 'bb_000', 'bc_000', 'bd_000', 'be_000', 'bf_000', 'bg_000', 'bh_000', 'bi_000', 'bj_000', 'bk_000', 'bl_000', 'bm_000', 'bn_000', 'bo_000', 'bp_000', 'bq_000', 'br_000', 'bs_000', 'bt_000', 'bu_000', 'bv_000', 'bx_000', 'by_000', 'bz_000', 'ca_000', 'cb_000', 'cc_000', 'cd_000', 'ce_000', 'cf_000', 'cg_000', 'ch_000', 'ci_000', 'cj_000', 'ck_000', 'cl_000', 'cm_000', 'cn_000', 'cn_001', 'cn_002', 'cn_003', 'cn_004', 'cn_005', 'cn_006', 'cn_007', 'cn_008', 'cn_009', 'co_000', 'cp_000', 'cq_000', 'cr_000', 'cs_000', 'cs_001', 'cs_002', 'cs_003', 'cs_004', 'cs_005', 'cs_006', 'cs_007', 'cs_008', 'cs_009', 'ct_000', 'cu_000', 'cv_000', 'cx_000', 'cy_000', 'cz_000', 'da_000', 'db_000', 'dc_000', 'dd_000', 'de_000', 'df_000', 'dg_000', 'dh_000', 'di_000', 'dj_000', 'dk_000', 'dl_000', 'dm_000', 'dn_000', 'do_000', 'dp_000', 'dq_000', 'dr_000', 'ds_000', 'dt_000', 'du_000', 'dv_000', 'dx_000', 'dy_000', 'dz_000', 'ea_000', 'eb_000', 'ec_00', 'ed_000', 'ee_000', 'ee_001', 'ee_002', 'ee_003', 'ee_004', 'ee_005', 'ee_006', 'ee_007', 'ee_008', 'ee_009', 'ef_000', 'eg_000']\n",
      "We have 1 categorical features : ['class']\n"
     ]
    }
   ],
   "source": [
    "# define numerical & categorical columns\n",
    "\n",
    "\n",
    "numerical_features = [feature for feature in df.columns if df[feature].dtype != 'object']\n",
    "categorical_features = [feature for feature in df.columns if df[feature].dtype == 'object']\n",
    "\n",
    "# print columns\n",
    "print(\"We have {} numerical features : {}\".format(len(numerical_features), numerical_features))\n",
    "print(\"We have {} categorical features : {}\".format(len(categorical_features), categorical_features))"
   ]
  },
  {
   "cell_type": "markdown",
   "id": "5215ab2e",
   "metadata": {},
   "source": [
    "As this is a Sensor dat. Interpretation of the data is not required\n",
    "\n",
    "Checking missing values"
   ]
  },
  {
   "cell_type": "code",
   "execution_count": 5,
   "id": "dd368e09",
   "metadata": {},
   "outputs": [
    {
     "data": {
      "image/png": "[encoded data removed]",
      "text/plain": [
       "<Figure size 1500x500 with 1 Axes>"
      ]
     },
     "metadata": {},
     "output_type": "display_data"
    }
   ],
   "source": [
    "# plotting missing values count for each column\n",
    "# matplotlib\n",
    "\n",
    "\n",
    "fig, ax = plt.subplots(figsize=(15,5))\n",
    "\n",
    "missing = df.isna().sum().div(df.shape[0]).mul(100).to_frame().sort_values(by=0, ascending=False)\n",
    "\n",
    "ax.bar(missing.index, missing.values.T[0])\n",
    "plt.xticks([])\n",
    "plt.ylabel(\"Percentage missing\")\n",
    "plt.show()"
   ]
  },
  {
   "cell_type": "code",
   "execution_count": 6,
   "id": "d60540b0",
   "metadata": {},
   "outputs": [
    {
     "data": {
      "application/vnd.plotly.v1+json": {
       "config": {
        "plotlyServerURL": "https://plot.ly"
       },
       "data": [
        {
         "marker": {
          "color": "royalblue"
         },
         "type": "bar",
         "x": [
          "br_000",
          "bq_000",
          "bp_000",
          "cr_000",
          "ab_000",
          "bo_000",
          "bn_000",
          "bm_000",
          "bl_000",
          "bk_000",
          "ad_000",
          "cg_000",
          "ch_000",
          "cf_000",
          "co_000",
          "cx_000",
          "cz_000",
          "cy_000",
          "dc_000",
          "db_000",
          "cv_000",
          "ct_000",
          "da_000",
          "cu_000",
          "ec_00",
          "cm_000",
          "cl_000",
          "ed_000",
          "ak_000",
          "ca_000",
          "dm_000",
          "dl_000",
          "dg_000",
          "df_000",
          "dh_000",
          "eb_000",
          "dj_000",
          "dk_000",
          "di_000",
          "ac_000",
          "bx_000",
          "cc_000",
          "bd_000",
          "dt_000",
          "dp_000",
          "ds_000",
          "dq_000",
          "dr_000",
          "dv_000",
          "du_000",
          "bc_000",
          "cp_000",
          "de_000",
          "do_000",
          "ef_000",
          "dy_000",
          "eg_000",
          "ar_000",
          "dx_000",
          "dz_000",
          "ea_000",
          "bz_000",
          "dd_000",
          "be_000",
          "ce_000",
          "ax_000",
          "av_000",
          "bf_000",
          "ae_000",
          "af_000",
          "cb_000",
          "bs_000",
          "dn_000",
          "cq_000",
          "bu_000",
          "bv_000",
          "cd_000",
          "ba_002",
          "ba_001",
          "ba_004",
          "ba_005",
          "ba_003",
          "ba_006",
          "ba_000",
          "ba_008",
          "ba_007",
          "ba_009",
          "cn_004",
          "cn_000",
          "cn_007",
          "cn_009",
          "cn_001",
          "cn_005",
          "cn_003",
          "cn_008",
          "cn_002",
          "cn_006",
          "an_000",
          "ah_000",
          "bg_000",
          "bh_000",
          "bb_000",
          "al_000",
          "ap_000",
          "ay_006",
          "ay_007",
          "ag_001",
          "ee_007",
          "ee_006",
          "ee_004",
          "ee_005",
          "ee_009",
          "ee_008",
          "ee_000",
          "az_008",
          "az_001",
          "az_000",
          "ay_002",
          "ay_003",
          "ay_005",
          "ay_008",
          "ay_004",
          "ay_009",
          "ag_005",
          "ag_006",
          "ag_004",
          "ay_000",
          "ay_001",
          "ag_007",
          "ag_009",
          "ag_008",
          "ag_002",
          "ag_003",
          "ag_000",
          "az_009",
          "az_004",
          "az_005",
          "az_006",
          "az_007",
          "ee_003",
          "ee_002",
          "az_002",
          "az_003",
          "ee_001",
          "cs_008",
          "cs_001",
          "cs_002",
          "cs_000",
          "cs_006",
          "cs_003",
          "cs_004",
          "cs_005",
          "cs_009",
          "cs_007",
          "ai_000",
          "at_000",
          "aj_000",
          "as_000",
          "au_000",
          "am_0",
          "bi_000",
          "ao_000",
          "aq_000",
          "bj_000",
          "by_000",
          "ck_000",
          "cj_000",
          "ci_000",
          "bt_000",
          "aa_000",
          "class"
         ],
         "y": {
          "bdata": "KZH6P01aVEDj/5vhHSBUQJlSjyHSslNAT6WCYYZFU0BPpYJhhkVTQABbEHInIlNAdbkKg78wUkC0gpOVNmFQQEId+q/TkUZAbcgztk8ZQ0B/aCUaPGw5QH9oJRo8bDlAf2glGjxsOUB/aCUaPGw5QH9oJRo8bDlAx/PPLZuMN0DH888tm4w3QMfzzy2bjDdAx/PPLZuMN0DH888tm4w3QMfzzy2bjDdAx/PPLZuMN0DH888tm4w3QMfzzy2bjDdA0JrH3lkoMUDawnZdD4cwQGgiwBaE3C9AaCLAFoTcL0ABgbfN9sIeQHN5JGHBYh5AOK7FOlUkHEAeTLLVgCEcQB5MstWAIRxAHkyy1YAhHEAeTLLVgCEcQAPqnnCsHhxAA+qecKweHEAD6p5wrB4cQOiHiwvYGxxA4HkbU1GqF0AmNHsyOPIUQAzSZ81j7xRAG70j1/skE0AbvSPX+yQTQBu9I9f7JBNAG70j1/skE0AbvSPX+yQTQABbEHInIhNAAFsQciciE0AAWxByJyITQABbEHInIhNA5vj8DFMfE0Dm+PwMUx8TQOb4/AxTHxNA5vj8DFMfE0Dm+PwMUx8TQMuW6ad+HBNAy5bpp34cE0DLlumnfhwTQMuW6ad+HBNAy5bpp34cE0DLlumnfhwTQF20disAlhFAQlJjxiuTEUBCUmPGK5MRQCfwT2FXkBFADY48/IKNEUDyKymXrooRQPIrKZeuihFA8ispl66KEUBAR+a6hYbyP0BH5rqFhvI/j8ANdmzR8T+PwA12bNHxP4/ADXZs0fE/j8ANdmzR8T8kOMDhGsbxP3Ox55wBEfE/c7HnnAER8T9zseecARHxP3Ox55wBEfE/c7HnnAER8T9zseecARHxP3Ox55wBEfE/c7HnnAER8T9zseecARHxP3Ox55wBEfE/CCmaCLAF8T8IKZoIsAXxPwgpmgiwBfE/CCmaCLAF8T8IKZoIsAXxPwgpmgiwBfE/CCmaCLAF8T8IKZoIsAXxPwgpmgiwBfE/CCmaCLAF8T/Gj7FLu+PwP8aPsUu74/A/xo+xS7vj8D/Gj7FLu+PwP8aPsUu74/A/xo+xS7vj8D/Gj7FLu+PwP4X2yI7GwfA/hfbIjsbB8D+F9siOxsHwP4X2yI7GwfA/hfbIjsbB8D+F9siOxsHwP4X2yI7GwfA/hfbIjsbB8D+F9siOxsHwP4X2yI7GwfA/hfbIjsbB8D+F9siOxsHwP4X2yI7GwfA/hfbIjsbB8D+F9siOxsHwP4X2yI7GwfA/hfbIjsbB8D+F9siOxsHwP4X2yI7GwfA/hfbIjsbB8D+F9siOxsHwP4X2yI7GwfA/hfbIjsbB8D+F9siOxsHwP4X2yI7GwfA/hfbIjsbB8D+F9siOxsHwP4X2yI7GwfA/hfbIjsbB8D+F9siOxsHwP4X2yI7GwfA/hfbIjsbB8D+F9siOxsHwP4X2yI7GwfA/hfbIjsbB8D+F9siOxsHwP4X2yI7GwfA/hfbIjsbB8D+F9siOxsHwP4X2yI7GwfA/Gm57+nS28D8abnv6dLbwPxpue/p0tvA/Gm57+nS28D8abnv6dLbwPxpue/p0tvA/Gm57+nS28D8abnv6dLbwPxpue/p0tvA/Gm57+nS28D/Z1JI9gJTwP9nUkj2AlPA/2dSSPYCU8D/Z1JI9gJTwP9nUkj2AlPA/2dSSPYCU8D+asPm44YHuP5qw+bjhge4/mrD5uOGB7j+asPm44YHuPwax8Kpxyec/0Fn2MmHz4T/QWfYyYfPhP9BZ9jJh8+E/xJ9ekD5rzj8AAAAAAAAAAAAAAAAAAAAA",
          "dtype": "f8"
         }
        }
       ],
       "layout": {
        "height": 500,
        "template": {
         "data": {
          "bar": [
           {
            "error_x": {
             "color": "#2a3f5f"
            },
            "error_y": {
             "color": "#2a3f5f"
            },
            "marker": {
             "line": {
              "color": "#E5ECF6",
              "width": 0.5
             },
             "pattern": {
              "fillmode": "overlay",
              "size": 10,
              "solidity": 0.2
             }
            },
            "type": "bar"
           }
          ],
          "barpolar": [
           {
            "marker": {
             "line": {
              "color": "#E5ECF6",
              "width": 0.5
             },
             "pattern": {
              "fillmode": "overlay",
              "size": 10,
              "solidity": 0.2
             }
            },
            "type": "barpolar"
           }
          ],
          "carpet": [
           {
            "aaxis": {
             "endlinecolor": "#2a3f5f",
             "gridcolor": "white",
             "linecolor": "white",
             "minorgridcolor": "white",
             "startlinecolor": "#2a3f5f"
            },
            "baxis": {
             "endlinecolor": "#2a3f5f",
             "gridcolor": "white",
             "linecolor": "white",
             "minorgridcolor": "white",
             "startlinecolor": "#2a3f5f"
            },
            "type": "carpet"
           }
          ],
          "choropleth": [
           {
            "colorbar": {
             "outlinewidth": 0,
             "ticks": ""
            },
            "type": "choropleth"
           }
          ],
          "contour": [
           {
            "colorbar": {
             "outlinewidth": 0,
             "ticks": ""
            },
            "colorscale": [
             [
              0,
              "#0d0887"
             ],
             [
              0.1111111111111111,
              "#46039f"
             ],
             [
              0.2222222222222222,
              "#7201a8"
             ],
             [
              0.3333333333333333,
              "#9c179e"
             ],
             [
              0.4444444444444444,
              "#bd3786"
             ],
             [
              0.5555555555555556,
              "#d8576b"
             ],
             [
              0.6666666666666666,
              "#ed7953"
             ],
             [
              0.7777777777777778,
              "#fb9f3a"
             ],
             [
              0.8888888888888888,
              "#fdca26"
             ],
             [
              1,
              "#f0f921"
             ]
            ],
            "type": "contour"
           }
          ],
          "contourcarpet": [
           {
            "colorbar": {
             "outlinewidth": 0,
             "ticks": ""
            },
            "type": "contourcarpet"
           }
          ],
          "heatmap": [
           {
            "colorbar": {
             "outlinewidth": 0,
             "ticks": ""
            },
            "colorscale": [
             [
              0,
              "#0d0887"
             ],
             [
              0.1111111111111111,
              "#46039f"
             ],
             [
              0.2222222222222222,
              "#7201a8"
             ],
             [
              0.3333333333333333,
              "#9c179e"
             ],
             [
              0.4444444444444444,
              "#bd3786"
             ],
             [
              0.5555555555555556,
              "#d8576b"
             ],
             [
              0.6666666666666666,
              "#ed7953"
             ],
             [
              0.7777777777777778,
              "#fb9f3a"
             ],
             [
              0.8888888888888888,
              "#fdca26"
             ],
             [
              1,
              "#f0f921"
             ]
            ],
            "type": "heatmap"
           }
          ],
          "histogram": [
           {
            "marker": {
             "pattern": {
              "fillmode": "overlay",
              "size": 10,
              "solidity": 0.2
             }
            },
            "type": "histogram"
           }
          ],
          "histogram2d": [
           {
            "colorbar": {
             "outlinewidth": 0,
             "ticks": ""
            },
            "colorscale": [
             [
              0,
              "#0d0887"
             ],
             [
              0.1111111111111111,
              "#46039f"
             ],
             [
              0.2222222222222222,
              "#7201a8"
             ],
             [
              0.3333333333333333,
              "#9c179e"
             ],
             [
              0.4444444444444444,
              "#bd3786"
             ],
             [
              0.5555555555555556,
              "#d8576b"
             ],
             [
              0.6666666666666666,
              "#ed7953"
             ],
             [
              0.7777777777777778,
              "#fb9f3a"
             ],
             [
              0.8888888888888888,
              "#fdca26"
             ],
             [
              1,
              "#f0f921"
             ]
            ],
            "type": "histogram2d"
           }
          ],
          "histogram2dcontour": [
           {
            "colorbar": {
             "outlinewidth": 0,
             "ticks": ""
            },
            "colorscale": [
             [
              0,
              "#0d0887"
             ],
             [
              0.1111111111111111,
              "#46039f"
             ],
             [
              0.2222222222222222,
              "#7201a8"
             ],
             [
              0.3333333333333333,
              "#9c179e"
             ],
             [
              0.4444444444444444,
              "#bd3786"
             ],
             [
              0.5555555555555556,
              "#d8576b"
             ],
             [
              0.6666666666666666,
              "#ed7953"
             ],
             [
              0.7777777777777778,
              "#fb9f3a"
             ],
             [
              0.8888888888888888,
              "#fdca26"
             ],
             [
              1,
              "#f0f921"
             ]
            ],
            "type": "histogram2dcontour"
           }
          ],
          "mesh3d": [
           {
            "colorbar": {
             "outlinewidth": 0,
             "ticks": ""
            },
            "type": "mesh3d"
           }
          ],
          "parcoords": [
           {
            "line": {
             "colorbar": {
              "outlinewidth": 0,
              "ticks": ""
             }
            },
            "type": "parcoords"
           }
          ],
          "pie": [
           {
            "automargin": true,
            "type": "pie"
           }
          ],
          "scatter": [
           {
            "fillpattern": {
             "fillmode": "overlay",
             "size": 10,
             "solidity": 0.2
            },
            "type": "scatter"
           }
          ],
          "scatter3d": [
           {
            "line": {
             "colorbar": {
              "outlinewidth": 0,
              "ticks": ""
             }
            },
            "marker": {
             "colorbar": {
              "outlinewidth": 0,
              "ticks": ""
             }
            },
            "type": "scatter3d"
           }
          ],
          "scattercarpet": [
           {
            "marker": {
             "colorbar": {
              "outlinewidth": 0,
              "ticks": ""
             }
            },
            "type": "scattercarpet"
           }
          ],
          "scattergeo": [
           {
            "marker": {
             "colorbar": {
              "outlinewidth": 0,
              "ticks": ""
             }
            },
            "type": "scattergeo"
           }
          ],
          "scattergl": [
           {
            "marker": {
             "colorbar": {
              "outlinewidth": 0,
              "ticks": ""
             }
            },
            "type": "scattergl"
           }
          ],
          "scattermap": [
           {
            "marker": {
             "colorbar": {
              "outlinewidth": 0,
              "ticks": ""
             }
            },
            "type": "scattermap"
           }
          ],
          "scattermapbox": [
           {
            "marker": {
             "colorbar": {
              "outlinewidth": 0,
              "ticks": ""
             }
            },
            "type": "scattermapbox"
           }
          ],
          "scatterpolar": [
           {
            "marker": {
             "colorbar": {
              "outlinewidth": 0,
              "ticks": ""
             }
            },
            "type": "scatterpolar"
           }
          ],
          "scatterpolargl": [
           {
            "marker": {
             "colorbar": {
              "outlinewidth": 0,
              "ticks": ""
             }
            },
            "type": "scatterpolargl"
           }
          ],
          "scatterternary": [
           {
            "marker": {
             "colorbar": {
              "outlinewidth": 0,
              "ticks": ""
             }
            },
            "type": "scatterternary"
           }
          ],
          "surface": [
           {
            "colorbar": {
             "outlinewidth": 0,
             "ticks": ""
            },
            "colorscale": [
             [
              0,
              "#0d0887"
             ],
             [
              0.1111111111111111,
              "#46039f"
             ],
             [
              0.2222222222222222,
              "#7201a8"
             ],
             [
              0.3333333333333333,
              "#9c179e"
             ],
             [
              0.4444444444444444,
              "#bd3786"
             ],
             [
              0.5555555555555556,
              "#d8576b"
             ],
             [
              0.6666666666666666,
              "#ed7953"
             ],
             [
              0.7777777777777778,
              "#fb9f3a"
             ],
             [
              0.8888888888888888,
              "#fdca26"
             ],
             [
              1,
              "#f0f921"
             ]
            ],
            "type": "surface"
           }
          ],
          "table": [
           {
            "cells": {
             "fill": {
              "color": "#EBF0F8"
             },
             "line": {
              "color": "white"
             }
            },
            "header": {
             "fill": {
              "color": "#C8D4E3"
             },
             "line": {
              "color": "white"
             }
            },
            "type": "table"
           }
          ]
         },
         "layout": {
          "annotationdefaults": {
           "arrowcolor": "#2a3f5f",
           "arrowhead": 0,
           "arrowwidth": 1
          },
          "autotypenumbers": "strict",
          "coloraxis": {
           "colorbar": {
            "outlinewidth": 0,
            "ticks": ""
           }
          },
          "colorscale": {
           "diverging": [
            [
             0,
             "#8e0152"
            ],
            [
             0.1,
             "#c51b7d"
            ],
            [
             0.2,
             "#de77ae"
            ],
            [
             0.3,
             "#f1b6da"
            ],
            [
             0.4,
             "#fde0ef"
            ],
            [
             0.5,
             "#f7f7f7"
            ],
            [
             0.6,
             "#e6f5d0"
            ],
            [
             0.7,
             "#b8e186"
            ],
            [
             0.8,
             "#7fbc41"
            ],
            [
             0.9,
             "#4d9221"
            ],
            [
             1,
             "#276419"
            ]
           ],
           "sequential": [
            [
             0,
             "#0d0887"
            ],
            [
             0.1111111111111111,
             "#46039f"
            ],
            [
             0.2222222222222222,
             "#7201a8"
            ],
            [
             0.3333333333333333,
             "#9c179e"
            ],
            [
             0.4444444444444444,
             "#bd3786"
            ],
            [
             0.5555555555555556,
             "#d8576b"
            ],
            [
             0.6666666666666666,
             "#ed7953"
            ],
            [
             0.7777777777777778,
             "#fb9f3a"
            ],
            [
             0.8888888888888888,
             "#fdca26"
            ],
            [
             1,
             "#f0f921"
            ]
           ],
           "sequentialminus": [
            [
             0,
             "#0d0887"
            ],
            [
             0.1111111111111111,
             "#46039f"
            ],
            [
             0.2222222222222222,
             "#7201a8"
            ],
            [
             0.3333333333333333,
             "#9c179e"
            ],
            [
             0.4444444444444444,
             "#bd3786"
            ],
            [
             0.5555555555555556,
             "#d8576b"
            ],
            [
             0.6666666666666666,
             "#ed7953"
            ],
            [
             0.7777777777777778,
             "#fb9f3a"
            ],
            [
             0.8888888888888888,
             "#fdca26"
            ],
            [
             1,
             "#f0f921"
            ]
           ]
          },
          "colorway": [
           "#636efa",
           "#EF553B",
           "#00cc96",
           "#ab63fa",
           "#FFA15A",
           "#19d3f3",
           "#FF6692",
           "#B6E880",
           "#FF97FF",
           "#FECB52"
          ],
          "font": {
           "color": "#2a3f5f"
          },
          "geo": {
           "bgcolor": "white",
           "lakecolor": "white",
           "landcolor": "#E5ECF6",
           "showlakes": true,
           "showland": true,
           "subunitcolor": "white"
          },
          "hoverlabel": {
           "align": "left"
          },
          "hovermode": "closest",
          "mapbox": {
           "style": "light"
          },
          "paper_bgcolor": "white",
          "plot_bgcolor": "#E5ECF6",
          "polar": {
           "angularaxis": {
            "gridcolor": "white",
            "linecolor": "white",
            "ticks": ""
           },
           "bgcolor": "#E5ECF6",
           "radialaxis": {
            "gridcolor": "white",
            "linecolor": "white",
            "ticks": ""
           }
          },
          "scene": {
           "xaxis": {
            "backgroundcolor": "#E5ECF6",
            "gridcolor": "white",
            "gridwidth": 2,
            "linecolor": "white",
            "showbackground": true,
            "ticks": "",
            "zerolinecolor": "white"
           },
           "yaxis": {
            "backgroundcolor": "#E5ECF6",
            "gridcolor": "white",
            "gridwidth": 2,
            "linecolor": "white",
            "showbackground": true,
            "ticks": "",
            "zerolinecolor": "white"
           },
           "zaxis": {
            "backgroundcolor": "#E5ECF6",
            "gridcolor": "white",
            "gridwidth": 2,
            "linecolor": "white",
            "showbackground": true,
            "ticks": "",
            "zerolinecolor": "white"
           }
          },
          "shapedefaults": {
           "line": {
            "color": "#2a3f5f"
           }
          },
          "ternary": {
           "aaxis": {
            "gridcolor": "white",
            "linecolor": "white",
            "ticks": ""
           },
           "baxis": {
            "gridcolor": "white",
            "linecolor": "white",
            "ticks": ""
           },
           "bgcolor": "#E5ECF6",
           "caxis": {
            "gridcolor": "white",
            "linecolor": "white",
            "ticks": ""
           }
          },
          "title": {
           "x": 0.05
          },
          "xaxis": {
           "automargin": true,
           "gridcolor": "white",
           "linecolor": "white",
           "ticks": "",
           "title": {
            "standoff": 15
           },
           "zerolinecolor": "white",
           "zerolinewidth": 2
          },
          "yaxis": {
           "automargin": true,
           "gridcolor": "white",
           "linecolor": "white",
           "ticks": "",
           "title": {
            "standoff": 15
           },
           "zerolinecolor": "white",
           "zerolinewidth": 2
          }
         }
        },
        "title": {
         "text": "Percentage of missing values by column"
        },
        "width": 1200,
        "xaxis": {
         "tickangle": 45,
         "title": {
          "text": "Columns"
         }
        },
        "yaxis": {
         "title": {
          "text": "Percentage Missing"
         }
        }
       }
      }
     },
     "metadata": {},
     "output_type": "display_data"
    }
   ],
   "source": [
    "# plotly  :  missing values count each column\n",
    "\n",
    "\n",
    "missing = df.isna().sum().div(df.shape[0]).mul(100).to_frame().sort_values(by=0, ascending=False)\n",
    "\n",
    "fig = go.Figure(data= go.Bar(x = missing.index, y = missing[0], marker_color='royalblue'))\n",
    "\n",
    "fig.update_layout(title=\"Percentage of missing values by column\", xaxis_title = \"Columns\",yaxis_title=\"Percentage Missing\", xaxis_tickangle=45, height=500, width= 1200)\n",
    "fig.show()"
   ]
  },
  {
   "cell_type": "markdown",
   "id": "8921a461",
   "metadata": {},
   "source": [
    "Dropping Columns which has more than 70% of missing values."
   ]
  },
  {
   "cell_type": "code",
   "execution_count": 7,
   "id": "608b6bab",
   "metadata": {},
   "outputs": [
    {
     "data": {
      "text/html": [
       "<div>\n",
       "<style scoped>\n",
       "    .dataframe tbody tr th:only-of-type {\n",
       "        vertical-align: middle;\n",
       "    }\n",
       "\n",
       "    .dataframe tbody tr th {\n",
       "        vertical-align: top;\n",
       "    }\n",
       "\n",
       "    .dataframe thead th {\n",
       "        text-align: right;\n",
       "    }\n",
       "</style>\n",
       "<table border=\"1\" class=\"dataframe\">\n",
       "  <thead>\n",
       "    <tr style=\"text-align: right;\">\n",
       "      <th></th>\n",
       "      <th>0</th>\n",
       "    </tr>\n",
       "  </thead>\n",
       "  <tbody>\n",
       "    <tr>\n",
       "      <th>br_000</th>\n",
       "      <td>81.410965</td>\n",
       "    </tr>\n",
       "    <tr>\n",
       "      <th>bq_000</th>\n",
       "      <td>80.501824</td>\n",
       "    </tr>\n",
       "    <tr>\n",
       "      <th>bp_000</th>\n",
       "      <td>78.794075</td>\n",
       "    </tr>\n",
       "    <tr>\n",
       "      <th>cr_000</th>\n",
       "      <td>77.086327</td>\n",
       "    </tr>\n",
       "    <tr>\n",
       "      <th>ab_000</th>\n",
       "      <td>77.086327</td>\n",
       "    </tr>\n",
       "    <tr>\n",
       "      <th>bo_000</th>\n",
       "      <td>76.533658</td>\n",
       "    </tr>\n",
       "    <tr>\n",
       "      <th>bn_000</th>\n",
       "      <td>72.761689</td>\n",
       "    </tr>\n",
       "  </tbody>\n",
       "</table>\n",
       "</div>"
      ],
      "text/plain": [
       "                0\n",
       "br_000  81.410965\n",
       "bq_000  80.501824\n",
       "bp_000  78.794075\n",
       "cr_000  77.086327\n",
       "ab_000  77.086327\n",
       "bo_000  76.533658\n",
       "bn_000  72.761689"
      ]
     },
     "execution_count": 7,
     "metadata": {},
     "output_type": "execute_result"
    }
   ],
   "source": [
    "dropcols = missing[missing[0] > 70]\n",
    "dropcols"
   ]
  },
  {
   "cell_type": "code",
   "execution_count": 8,
   "id": "8485e316",
   "metadata": {},
   "outputs": [],
   "source": [
    "df.drop(list(dropcols.index), axis=1, inplace=True)"
   ]
  },
  {
   "cell_type": "code",
   "execution_count": 9,
   "id": "d8fa3610",
   "metadata": {},
   "outputs": [
    {
     "data": {
      "text/plain": [
       "(36188, 164)"
      ]
     },
     "execution_count": 9,
     "metadata": {},
     "output_type": "execute_result"
    }
   ],
   "source": [
    "# check dataset shape\n",
    "\n",
    "df.shape"
   ]
  },
  {
   "cell_type": "code",
   "execution_count": 10,
   "id": "eac3924e",
   "metadata": {},
   "outputs": [
    {
     "name": "stdout",
     "output_type": "stream",
     "text": [
      "Percentage of total missing cells in the data 5.37059852747306 %\n"
     ]
    }
   ],
   "source": [
    "missing_values_count = df.isnull().sum()\n",
    "total_cells = np.prod(df.shape)\n",
    "total_missing = missing_values_count.sum()\n",
    "\n",
    "\n",
    "# percent of data that is missing\n",
    "print(f\"Percentage of total missing cells in the data {(total_missing/total_cells) * 100} %\")"
   ]
  },
  {
   "cell_type": "markdown",
   "id": "6c68fa55",
   "metadata": {},
   "source": [
    "Visualization of unique values in target variable"
   ]
  },
  {
   "cell_type": "code",
   "execution_count": 11,
   "id": "bc3f7da9",
   "metadata": {},
   "outputs": [
    {
     "name": "stdout",
     "output_type": "stream",
     "text": [
      "Positive : 1000 , Negative : 35188\n"
     ]
    },
    {
     "data": {
      "image/png": "[encoded data removed]",
      "text/plain": [
       "<Figure size 500x500 with 1 Axes>"
      ]
     },
     "metadata": {},
     "output_type": "display_data"
    }
   ],
   "source": [
    "pos = df[df['class']=='pos'].shape[0]\n",
    "neg = df[df['class']=='neg'].shape[0]\n",
    "print(\"Positive : \" + str(pos) + \" , \" +\"Negative : \" + str(neg))\n",
    "sns.catplot(data=df, x=\"class\", kind=\"count\", palette=\"winter_r\", alpha=0.6)\n",
    "plt.show()"
   ]
  },
  {
   "cell_type": "markdown",
   "id": "a32ed350",
   "metadata": {},
   "source": [
    "**Report**\n",
    "\n",
    "- The target classes are highly imbalanced\n",
    "- Class imbalance is a scenario that arises when we have unequal distribution of class in a dataset i.e. the no. of data points in the negative clas (majority class) very large compared to that of the positive class (minority class)\n",
    "- If the imbalanced data is not treated beforehand, then this will degrade the performance of the classifier model.\n",
    "- Hence we should handle imbalanced data with cortain methods.\n",
    "\n",
    "\n",
    "**How to handle Imbalance Data?**\n",
    "\n",
    "- Resampling data is one of the most commonly preferred approaches to deal with an imbalanced dataset. There are broadly two types of methods for this i) Undersampling ii) Oversampling. In most cases, oversampling is preferred over undersampling techniques. The reason being, in undersampling we tend to remove instances from data that may be carrying some important information.\n",
    "- SMOTE: Synthetic Minority Oversampling Technique\n",
    "- SMOTE is an oversampling technique where the synthetic samples are generated for the minority class.\n",
    "- Hybridization techniques involve combining both undersampling and oversampling techniques. This is done to optimize the performance of classifier models for the samples created as part of these techniques.\n",
    "- It only duplicates the data and it won't add and new information. Hence we look at some different techniques."
   ]
  },
  {
   "cell_type": "markdown",
   "id": "ade176e1",
   "metadata": {},
   "source": [
    "**Create Functions for model training and evaluation**"
   ]
  },
  {
   "cell_type": "code",
   "execution_count": 12,
   "id": "4fc0fee1",
   "metadata": {},
   "outputs": [],
   "source": [
    "def evaluate_clf(true, predicted):\n",
    "    \"\"\"\n",
    "    This function takes in true values and predicted values\n",
    "    Return : Accuracy, F1-Score, Precision, Recall, Roc-auc Score\n",
    "    \"\"\"\n",
    "\n",
    "    acc = accuracy_score(true, predicted)\n",
    "    f1 = f1_score(true, predicted)\n",
    "    precision = precision_score(true, predicted)\n",
    "    recall = recall_score(true, predicted)\n",
    "    roc_auc = roc_auc_score(true, predicted)\n",
    "    return acc, f1, precision, recall, roc_auc"
   ]
  },
  {
   "cell_type": "code",
   "execution_count": 13,
   "id": "579e42d6",
   "metadata": {},
   "outputs": [],
   "source": [
    "# Create cost of the model as per data description\n",
    "\n",
    "\n",
    "def total_cost(y_true, y_pred):\n",
    "    \"\"\"\n",
    "    This function takes y_true, y_predicted and print total cost due to misclassification\n",
    "    tn = true negative, fp = false positive , fn = false negative , tp = true positive\n",
    "    \"\"\"\n",
    "\n",
    "    tn, fp, fn, tp = confusion_matrix(y_true, y_pred).ravel()\n",
    "    cost = 10 * fp  +  500 * fn\n",
    "    return cost"
   ]
  },
  {
   "cell_type": "code",
   "execution_count": 14,
   "id": "dd807f71",
   "metadata": {},
   "outputs": [],
   "source": [
    "# Create a function which can evaluate models and return a report\n",
    "\n",
    "\n",
    "def evaluate_models(X, y, models):\n",
    "    \"\"\"\n",
    "    This function takes in X and y and models dictionary as input\n",
    "    It splits the data into Train Test Split\n",
    "    Iterates through the given model dictionary and evaluate the metrics\n",
    "    Return : DataFrame which contains report of all models metrics with cost\n",
    "    \"\"\"\n",
    "\n",
    "    # separate dataset into train and test\n",
    "    X_train,X_test,y_train,y_test = train_test_split(X,y,test_size=0.2, random_state=42)\n",
    "\n",
    "\n",
    "    cost_list = []\n",
    "    models_list = []\n",
    "    accuracy_list = []\n",
    "\n",
    "    for i in range(len(list(models))):\n",
    "        model = list(models.values())[i]\n",
    "        model.fit(X_train, y_train)  # Train Model\n",
    "\n",
    "        # Make Predictions\n",
    "        y_train_pred = model.predict(X_train)\n",
    "        y_test_pred = model.predict(X_test)\n",
    "\n",
    "        # Training set performance\n",
    "        model_train_accuracy, model_train_f1, model_train_precision, model_train_recall, model_train_rocauc_score = evaluate_clf(y_train, y_train_pred)\n",
    "        train_cost = total_cost(y_train, y_train_pred)\n",
    "\n",
    "        # Test set performance\n",
    "        model_test_accuracy, model_test_f1, model_test_precision, model_test_recall, model_test_rocauc_score = evaluate_clf(y_test, y_test_pred)\n",
    "        test_cost = total_cost(y_test, y_test_pred)\n",
    "\n",
    "        print(list(models.keys())[i])\n",
    "        models_list.append(list(models.keys())[i])\n",
    "\n",
    "\n",
    "        print(\"Model Performance for Training set\")\n",
    "        print(\"- Accuracy :  {:.4f}\".format(model_train_accuracy))\n",
    "        print(\"- F1 Score : {:.4f}\".format(model_train_f1))\n",
    "        print(\"- Precision : {:.4f}\".format(model_train_precision))\n",
    "        print(\"- Recall : {:.4f}\".format(model_train_recall))\n",
    "        print(\"- Roc Acu Score : {:.4f}\".format(model_train_rocauc_score))\n",
    "        print(f'- COST : {train_cost}.')\n",
    "\n",
    "        print(\"--------------------------------\")\n",
    "\n",
    "        print(\"Model Performance for Test set\")\n",
    "        print(\"- Accuracy :  {:.4f}\".format(model_test_accuracy))\n",
    "        print(\"- F1 Score : {:.4f}\".format(model_test_f1))\n",
    "        print(\"- Precision : {:.4f}\".format(model_test_precision))\n",
    "        print(\"- Recall : {:.4f}\".format(model_test_recall))\n",
    "        print(\"- Roc Acu Score : {:.4f}\".format(model_test_rocauc_score))\n",
    "        print(f'- COST : {test_cost}.')\n",
    "        cost_list.append(test_cost)\n",
    "        print(\"=\"*35)\n",
    "        print(\"\\n\")\n",
    "\n",
    "\n",
    "    report= pd.DataFrame(list(zip(models_list, cost_list)), columns=['Model_Name', 'Cost']).sort_values(by=[\"Cost\"])\n",
    "    return report\n"
   ]
  },
  {
   "cell_type": "markdown",
   "id": "4241b545",
   "metadata": {},
   "source": [
    "Plot distribution of all Independent Numerical variables"
   ]
  },
  {
   "cell_type": "code",
   "execution_count": null,
   "id": "80eef5f7",
   "metadata": {},
   "outputs": [],
   "source": [
    "numeric_features = [feature for feature in df.columns if df[feature].dtype != 'object']\n",
    "\n",
    "plt.figure(figsize=(15,100))\n",
    "\n",
    "for i,col in enumerate(numeric_features):\n",
    "    plt.subplot(60,3, i+1)\n",
    "    sns.displot(x=df[col], color='indianred')\n",
    "    plt.xlabel(col, weight='bold')\n",
    "    plt.tight_layout()\n",
    "\n",
    "    "
   ]
  },
  {
   "cell_type": "markdown",
   "id": "39f3f46a",
   "metadata": {},
   "source": [
    "**Report**\n",
    "\n",
    "- As per the above plot most of the features are not normally distributed.\n",
    "- Transformation of data is not of prime importance since it is a classification problem. \n",
    "- Interpreting each and every column is not necessary as this is sensor data."
   ]
  },
  {
   "cell_type": "markdown",
   "id": "b7e31d3e",
   "metadata": {},
   "source": [
    "**Evaluate Model on Different Experiments**"
   ]
  },
  {
   "cell_type": "code",
   "execution_count": 15,
   "id": "f7c89638",
   "metadata": {},
   "outputs": [],
   "source": [
    "# Splitting X and y for all Experiments\n",
    "\n",
    "X = df.drop('class', axis = 1)\n",
    "y = df['class']"
   ]
  },
  {
   "cell_type": "markdown",
   "id": "8ddde5b7",
   "metadata": {},
   "source": [
    "Manually Encoding Target Variable"
   ]
  },
  {
   "cell_type": "code",
   "execution_count": 16,
   "id": "411b71ed",
   "metadata": {},
   "outputs": [],
   "source": [
    "y = y.replace({'pos':1, 'neg':0})"
   ]
  },
  {
   "cell_type": "markdown",
   "id": "f3b2022a",
   "metadata": {},
   "source": [
    "**Experiment: 1 = KNN Imputer for Null values**\n",
    "\n",
    "\n",
    "1 **Why Robust scaler and not Standard scaler?**\n",
    "- Scaling the data using Robust scaler\n",
    "- Since most of the independent variables are not normally distributed we cannot use Standard"
   ]
  },
  {
   "cell_type": "markdown",
   "id": "c0c12907",
   "metadata": {},
   "source": [
    "**Why Robust Scaler and not Minmax?**\n",
    "\n",
    "- Because most of the feature has outliers. So Minmax will scale data according to Max values which is outlier.\n",
    "- This Scaler removes the median and scales the data according to the quantile range (defaults to IQR: Interquartile Range).\n",
    "between the 1st quartile(25th quartile) and the 3rd quartila (75th quantile)."
   ]
  },
  {
   "cell_type": "code",
   "execution_count": 17,
   "id": "4d2a3339",
   "metadata": {},
   "outputs": [],
   "source": [
    "# Fit with robust scaler for KNN best K-selection experiment\n",
    "# fit = value adjsut\n",
    "# transform = value transform\n",
    "\n",
    "robustscaler = RobustScaler()\n",
    "X1 = robustscaler.fit_transform(X)"
   ]
  },
  {
   "cell_type": "markdown",
   "id": "dc9256cf",
   "metadata": {},
   "source": [
    "**Why KNN Imputer?**\n",
    "\n",
    "- KNNImputer by scikit-leam is a widely used method to impute missing values. It is widely being observed as a replacement for traditional imputation techniques.\n",
    "- KNNImputer helps to impute missing values present in the observations by finding the nearest neighbors with the Euclidean distance matrix.\n",
    "- Here we Iterates through different K values and get accuracy and choose best K values.\n",
    "\n",
    "\n",
    "Finding the optimaln_neighbour value for KNN imputer"
   ]
  },
  {
   "cell_type": "code",
   "execution_count": 18,
   "id": "16c129d8",
   "metadata": {},
   "outputs": [
    {
     "name": "stdout",
     "output_type": "stream",
     "text": [
      "n_neighbors = 1 || accuracy (0.7114)\n",
      "n_neighbors = 3 || accuracy (0.7260)\n",
      "n_neighbors = 5 || accuracy (0.7035)\n",
      "n_neighbors = 7 || accuracy (0.7010)\n",
      "n_neighbors = 9 || accuracy (0.6799)\n"
     ]
    }
   ],
   "source": [
    "results = []\n",
    "\n",
    "# define imputer\n",
    "\n",
    "imputer = KNNImputer(n_neighbors=5, weights='uniform', metric='nan_euclidean')\n",
    "strategies = [str(i) for i in [1,3,5,7,9]]\n",
    "\n",
    "for s in strategies:\n",
    "    pipeline = Pipeline(steps=[('i', KNNImputer(n_neighbors=int(s))), ('m', LogisticRegression())])\n",
    "    scores = cross_val_score(pipeline, X1, y, scoring='accuracy', cv=2, n_jobs=-1)\n",
    "    results.append(scores)\n",
    "    print(\"n_neighbors = %s || accuracy (%.4f)\" % (s, mean(scores)))"
   ]
  },
  {
   "cell_type": "markdown",
   "id": "86d08a3a",
   "metadata": {},
   "source": [
    "We can observe n_neighbors=3 able to produce highest accuracy"
   ]
  },
  {
   "cell_type": "markdown",
   "id": "4ed838ba",
   "metadata": {},
   "source": [
    "**Pipeline for KNN Imputer**"
   ]
  },
  {
   "cell_type": "code",
   "execution_count": 19,
   "id": "0c670c71",
   "metadata": {},
   "outputs": [],
   "source": [
    "num_features = X.select_dtypes(exclude=\"object\").columns\n",
    "\n",
    "# fit the KNN imputer with selected K-value\n",
    "\n",
    "knn_pipeline = Pipeline(steps=[\n",
    "    ['imputer', KNNImputer(n_neighbors=3)],\n",
    "    ['RobustScaler', RobustScaler()]\n",
    "])"
   ]
  },
  {
   "cell_type": "code",
   "execution_count": 20,
   "id": "33e4e344",
   "metadata": {},
   "outputs": [],
   "source": [
    "X_knn = knn_pipeline.fit_transform(X)"
   ]
  },
  {
   "cell_type": "markdown",
   "id": "33357708",
   "metadata": {},
   "source": [
    "**Handling Imbalanced data**\n",
    "\n",
    "SMOTE+TOMEK is one of such a hybrid technique that aims to clean overlapping data points for each of the classes distributed in sample space.\n",
    "\n",
    "- This method combines the SMOTE ability to generate synthetic data for minority class and Tomek Links ability to remove the data that are identified as Tomek links from the majority class\n",
    "- To add new data of minority class\n",
    "\n",
    "1. Choose random data from the minority class.\n",
    "2. Calculate the distance between the random data and its k nearest neighbors.\n",
    "3. Multiply the difference with a random number between 0 and 1, then add the result to the minority class as a synthetic sample\n",
    "4. Repeat step number 2-3 until the desired proportion of minority class is met.\n",
    "\n",
    "- To remove the tomek links of the majority class\n",
    "1. Choose random data from the majority class\n",
    "2. If the random data's nearest neighbor is the data from the minority class (ie. create the Tomek Link), then remove the Tomek Link.\n",
    "\n",
    "- This is method instead of adding duplicate data it synthesises the new data based on the already avalialble classes. Hence we choose this as our imputer method for this problem."
   ]
  },
  {
   "cell_type": "code",
   "execution_count": 21,
   "id": "fdd44d14",
   "metadata": {},
   "outputs": [],
   "source": [
    "from imblearn.combine import SMOTETomek\n",
    "\n",
    "\n",
    "# Resampling the minority class. The strategy can be changed as required.\n",
    "smt = SMOTETomek(random_state=42, sampling_strategy='minority', n_jobs=-1)\n",
    "\n",
    "# Fit the model to generate the data\n",
    "X_res, y_res = smt.fit_resample(X_knn, y)"
   ]
  },
  {
   "cell_type": "markdown",
   "id": "06f8c0b0",
   "metadata": {},
   "source": [
    "**Initialize Default Models in a dictionary**"
   ]
  },
  {
   "cell_type": "code",
   "execution_count": 22,
   "id": "af93de52",
   "metadata": {},
   "outputs": [],
   "source": [
    "# Dictionary which contains models for experiment\n",
    "\n",
    "models = {\n",
    "    \"Random Forest\": RandomForestClassifier(),\n",
    "    \"Decision Tree\": DecisionTreeClassifier(),\n",
    "    \"Gradient Boosting\" : GradientBoostingClassifier(),\n",
    "    \"Logistic Regression\": LogisticRegression(),\n",
    "    \"K-Neighbors Classifier\": KNeighborsClassifier(),\n",
    "    \"XGB Classifier\": XGBClassifier(),\n",
    "    \"CatBoost Classifier\": CatBoostClassifier(verbose=False),\n",
    "    \"AdaBoost Classifier\": AdaBoostClassifier()\n",
    "}"
   ]
  },
  {
   "cell_type": "markdown",
   "id": "570f055c",
   "metadata": {},
   "source": [
    "**Fit KNN Imputed data for models in dictionary**"
   ]
  },
  {
   "cell_type": "code",
   "execution_count": 23,
   "id": "2c51d598",
   "metadata": {},
   "outputs": [
    {
     "name": "stdout",
     "output_type": "stream",
     "text": [
      "Random Forest\n",
      "Model Performance for Training set\n",
      "- Accuracy :  1.0000\n",
      "- F1 Score : 1.0000\n",
      "- Precision : 1.0000\n",
      "- Recall : 1.0000\n",
      "- Roc Acu Score : 1.0000\n",
      "- COST : 0.\n",
      "--------------------------------\n",
      "Model Performance for Test set\n",
      "- Accuracy :  0.9929\n",
      "- F1 Score : 0.9930\n",
      "- Precision : 0.9892\n",
      "- Recall : 0.9967\n",
      "- Roc Acu Score : 0.9929\n",
      "- COST : 12260.\n",
      "===================================\n",
      "\n",
      "\n",
      "Decision Tree\n",
      "Model Performance for Training set\n",
      "- Accuracy :  1.0000\n",
      "- F1 Score : 1.0000\n",
      "- Precision : 1.0000\n",
      "- Recall : 1.0000\n",
      "- Roc Acu Score : 1.0000\n",
      "- COST : 0.\n",
      "--------------------------------\n",
      "Model Performance for Test set\n",
      "- Accuracy :  0.9878\n",
      "- F1 Score : 0.9879\n",
      "- Precision : 0.9830\n",
      "- Recall : 0.9927\n",
      "- Roc Acu Score : 0.9878\n",
      "- COST : 26700.\n",
      "===================================\n",
      "\n",
      "\n",
      "Gradient Boosting\n",
      "Model Performance for Training set\n",
      "- Accuracy :  0.9842\n",
      "- F1 Score : 0.9843\n",
      "- Precision : 0.9808\n",
      "- Recall : 0.9877\n",
      "- Roc Acu Score : 0.9842\n",
      "- COST : 177430.\n",
      "--------------------------------\n",
      "Model Performance for Test set\n",
      "- Accuracy :  0.9840\n",
      "- F1 Score : 0.9841\n",
      "- Precision : 0.9806\n",
      "- Recall : 0.9876\n",
      "- Roc Acu Score : 0.9840\n",
      "- COST : 44870.\n",
      "===================================\n",
      "\n",
      "\n",
      "Logistic Regression\n",
      "Model Performance for Training set\n",
      "- Accuracy :  0.5876\n",
      "- F1 Score : 0.6929\n",
      "- Precision : 0.5521\n",
      "- Recall : 0.9300\n",
      "- Roc Acu Score : 0.5876\n",
      "- COST : 1194770.\n",
      "--------------------------------\n",
      "Model Performance for Test set\n",
      "- Accuracy :  0.5814\n",
      "- F1 Score : 0.6896\n",
      "- Precision : 0.5476\n",
      "- Recall : 0.9308\n",
      "- Roc Acu Score : 0.5817\n",
      "- COST : 296390.\n",
      "===================================\n",
      "\n",
      "\n",
      "K-Neighbors Classifier\n",
      "Model Performance for Training set\n",
      "- Accuracy :  0.9814\n",
      "- F1 Score : 0.9816\n",
      "- Precision : 0.9708\n",
      "- Recall : 0.9927\n",
      "- Roc Acu Score : 0.9814\n",
      "- COST : 111370.\n",
      "--------------------------------\n",
      "Model Performance for Test set\n",
      "- Accuracy :  0.9745\n",
      "- F1 Score : 0.9748\n",
      "- Precision : 0.9607\n",
      "- Recall : 0.9894\n",
      "- Roc Acu Score : 0.9745\n",
      "- COST : 39840.\n",
      "===================================\n",
      "\n",
      "\n",
      "XGB Classifier\n",
      "Model Performance for Training set\n",
      "- Accuracy :  1.0000\n",
      "- F1 Score : 1.0000\n",
      "- Precision : 1.0000\n",
      "- Recall : 1.0000\n",
      "- Roc Acu Score : 1.0000\n",
      "- COST : 0.\n",
      "--------------------------------\n",
      "Model Performance for Test set\n",
      "- Accuracy :  0.9962\n",
      "- F1 Score : 0.9962\n",
      "- Precision : 0.9938\n",
      "- Recall : 0.9986\n",
      "- Roc Acu Score : 0.9962\n",
      "- COST : 5440.\n",
      "===================================\n",
      "\n",
      "\n",
      "CatBoost Classifier\n",
      "Model Performance for Training set\n",
      "- Accuracy :  0.9991\n",
      "- F1 Score : 0.9991\n",
      "- Precision : 0.9988\n",
      "- Recall : 0.9993\n",
      "- Roc Acu Score : 0.9991\n",
      "- COST : 10330.\n",
      "--------------------------------\n",
      "Model Performance for Test set\n",
      "- Accuracy :  0.9947\n",
      "- F1 Score : 0.9947\n",
      "- Precision : 0.9921\n",
      "- Recall : 0.9973\n",
      "- Roc Acu Score : 0.9947\n",
      "- COST : 10060.\n",
      "===================================\n",
      "\n",
      "\n",
      "AdaBoost Classifier\n",
      "Model Performance for Training set\n",
      "- Accuracy :  0.9690\n",
      "- F1 Score : 0.9691\n",
      "- Precision : 0.9673\n",
      "- Recall : 0.9709\n",
      "- Roc Acu Score : 0.9690\n",
      "- COST : 417720.\n",
      "--------------------------------\n",
      "Model Performance for Test set\n",
      "- Accuracy :  0.9707\n",
      "- F1 Score : 0.9707\n",
      "- Precision : 0.9693\n",
      "- Recall : 0.9722\n",
      "- Roc Acu Score : 0.9707\n",
      "- COST : 99660.\n",
      "===================================\n",
      "\n",
      "\n"
     ]
    }
   ],
   "source": [
    "report_knn = evaluate_models(X_res, y_res, models)"
   ]
  },
  {
   "cell_type": "markdown",
   "id": "2ed75360",
   "metadata": {},
   "source": [
    "**Report for KNN Imputed data**"
   ]
  },
  {
   "cell_type": "code",
   "execution_count": 24,
   "id": "46ecc9bb",
   "metadata": {},
   "outputs": [
    {
     "data": {
      "text/html": [
       "<div>\n",
       "<style scoped>\n",
       "    .dataframe tbody tr th:only-of-type {\n",
       "        vertical-align: middle;\n",
       "    }\n",
       "\n",
       "    .dataframe tbody tr th {\n",
       "        vertical-align: top;\n",
       "    }\n",
       "\n",
       "    .dataframe thead th {\n",
       "        text-align: right;\n",
       "    }\n",
       "</style>\n",
       "<table border=\"1\" class=\"dataframe\">\n",
       "  <thead>\n",
       "    <tr style=\"text-align: right;\">\n",
       "      <th></th>\n",
       "      <th>Model_Name</th>\n",
       "      <th>Cost</th>\n",
       "    </tr>\n",
       "  </thead>\n",
       "  <tbody>\n",
       "    <tr>\n",
       "      <th>5</th>\n",
       "      <td>XGB Classifier</td>\n",
       "      <td>5440</td>\n",
       "    </tr>\n",
       "    <tr>\n",
       "      <th>6</th>\n",
       "      <td>CatBoost Classifier</td>\n",
       "      <td>10060</td>\n",
       "    </tr>\n",
       "    <tr>\n",
       "      <th>0</th>\n",
       "      <td>Random Forest</td>\n",
       "      <td>12260</td>\n",
       "    </tr>\n",
       "    <tr>\n",
       "      <th>1</th>\n",
       "      <td>Decision Tree</td>\n",
       "      <td>26700</td>\n",
       "    </tr>\n",
       "    <tr>\n",
       "      <th>4</th>\n",
       "      <td>K-Neighbors Classifier</td>\n",
       "      <td>39840</td>\n",
       "    </tr>\n",
       "    <tr>\n",
       "      <th>2</th>\n",
       "      <td>Gradient Boosting</td>\n",
       "      <td>44870</td>\n",
       "    </tr>\n",
       "    <tr>\n",
       "      <th>7</th>\n",
       "      <td>AdaBoost Classifier</td>\n",
       "      <td>99660</td>\n",
       "    </tr>\n",
       "    <tr>\n",
       "      <th>3</th>\n",
       "      <td>Logistic Regression</td>\n",
       "      <td>296390</td>\n",
       "    </tr>\n",
       "  </tbody>\n",
       "</table>\n",
       "</div>"
      ],
      "text/plain": [
       "               Model_Name    Cost\n",
       "5          XGB Classifier    5440\n",
       "6     CatBoost Classifier   10060\n",
       "0           Random Forest   12260\n",
       "1           Decision Tree   26700\n",
       "4  K-Neighbors Classifier   39840\n",
       "2       Gradient Boosting   44870\n",
       "7     AdaBoost Classifier   99660\n",
       "3     Logistic Regression  296390"
      ]
     },
     "execution_count": 24,
     "metadata": {},
     "output_type": "execute_result"
    }
   ],
   "source": [
    "report_knn"
   ]
  },
  {
   "cell_type": "markdown",
   "id": "afdd17e3",
   "metadata": {},
   "source": [
    "**Insights**\n",
    "\n",
    "- For the Experiment 1: Knn imputer has XGBoost classifier as the best Model\n",
    "- Proceeding with further experiments\n",
    "\n",
    "\n",
    "**Experiment: 2 = Simple Imputer with Strategy Median**\n",
    "\n",
    "- Simplelmputer is a class in the sklearn.impute module that can be used to replace missing values in a dataset, using a variety of input strategies\n",
    "- Here we use Simplelmputer can also be used to impute multiple columns at once by passing in a list of column names. Simplelmputer will then replace missing values in all of the specified columns."
   ]
  },
  {
   "cell_type": "code",
   "execution_count": 25,
   "id": "36d65084",
   "metadata": {},
   "outputs": [],
   "source": [
    "num_features = X.select_dtypes(exclude=\"object\").columns\n",
    "\n",
    "# Fit the Simple Imputer with strategy median\n",
    "median_pipeline = Pipeline(steps=[\n",
    "    ('imputer', SimpleImputer(strategy='median')),\n",
    "    ('RobustScaler', RobustScaler())\n",
    "])"
   ]
  },
  {
   "cell_type": "code",
   "execution_count": 26,
   "id": "f8f0b6e8",
   "metadata": {},
   "outputs": [],
   "source": [
    "# fit X with median_pipeline\n",
    "\n",
    "\n",
    "X_median = median_pipeline.fit_transform(X)"
   ]
  },
  {
   "cell_type": "code",
   "execution_count": 27,
   "id": "fce063b1",
   "metadata": {},
   "outputs": [],
   "source": [
    "# Resampling the minority class. The strategy can be changed as required.\n",
    "\n",
    "smt = SMOTETomek(random_state=42, sampling_strategy='minority')\n",
    "\n",
    "# fit the model to genrate the data.\n",
    "X_res, y_res = smt.fit_resample(X_median, y)"
   ]
  },
  {
   "cell_type": "code",
   "execution_count": 28,
   "id": "ff5c39cd",
   "metadata": {},
   "outputs": [
    {
     "name": "stdout",
     "output_type": "stream",
     "text": [
      "Random Forest\n",
      "Model Performance for Training set\n",
      "- Accuracy :  1.0000\n",
      "- F1 Score : 1.0000\n",
      "- Precision : 1.0000\n",
      "- Recall : 1.0000\n",
      "- Roc Acu Score : 1.0000\n",
      "- COST : 0.\n",
      "--------------------------------\n",
      "Model Performance for Test set\n",
      "- Accuracy :  0.9918\n",
      "- F1 Score : 0.9919\n",
      "- Precision : 0.9866\n",
      "- Recall : 0.9973\n",
      "- Roc Acu Score : 0.9917\n",
      "- COST : 10460.\n",
      "===================================\n",
      "\n",
      "\n",
      "Decision Tree\n",
      "Model Performance for Training set\n",
      "- Accuracy :  1.0000\n",
      "- F1 Score : 1.0000\n",
      "- Precision : 1.0000\n",
      "- Recall : 1.0000\n",
      "- Roc Acu Score : 1.0000\n",
      "- COST : 0.\n",
      "--------------------------------\n",
      "Model Performance for Test set\n",
      "- Accuracy :  0.9857\n",
      "- F1 Score : 0.9859\n",
      "- Precision : 0.9807\n",
      "- Recall : 0.9911\n",
      "- Roc Acu Score : 0.9856\n",
      "- COST : 32880.\n",
      "===================================\n",
      "\n",
      "\n",
      "Gradient Boosting\n",
      "Model Performance for Training set\n",
      "- Accuracy :  0.9840\n",
      "- F1 Score : 0.9840\n",
      "- Precision : 0.9813\n",
      "- Recall : 0.9867\n",
      "- Roc Acu Score : 0.9840\n",
      "- COST : 190760.\n",
      "--------------------------------\n",
      "Model Performance for Test set\n",
      "- Accuracy :  0.9810\n",
      "- F1 Score : 0.9812\n",
      "- Precision : 0.9757\n",
      "- Recall : 0.9868\n",
      "- Roc Acu Score : 0.9809\n",
      "- COST : 48240.\n",
      "===================================\n",
      "\n",
      "\n",
      "Logistic Regression\n",
      "Model Performance for Training set\n",
      "- Accuracy :  0.6309\n",
      "- F1 Score : 0.7153\n",
      "- Precision : 0.5814\n",
      "- Recall : 0.9295\n",
      "- Roc Acu Score : 0.6315\n",
      "- COST : 1173740.\n",
      "--------------------------------\n",
      "Model Performance for Test set\n",
      "- Accuracy :  0.6270\n",
      "- F1 Score : 0.7149\n",
      "- Precision : 0.5817\n",
      "- Recall : 0.9270\n",
      "- Roc Acu Score : 0.6243\n",
      "- COST : 305130.\n",
      "===================================\n",
      "\n",
      "\n",
      "K-Neighbors Classifier\n",
      "Model Performance for Training set\n",
      "- Accuracy :  0.9789\n",
      "- F1 Score : 0.9791\n",
      "- Precision : 0.9683\n",
      "- Recall : 0.9902\n",
      "- Roc Acu Score : 0.9789\n",
      "- COST : 146570.\n",
      "--------------------------------\n",
      "Model Performance for Test set\n",
      "- Accuracy :  0.9718\n",
      "- F1 Score : 0.9724\n",
      "- Precision : 0.9596\n",
      "- Recall : 0.9854\n",
      "- Roc Acu Score : 0.9716\n",
      "- COST : 54430.\n",
      "===================================\n",
      "\n",
      "\n",
      "XGB Classifier\n",
      "Model Performance for Training set\n",
      "- Accuracy :  1.0000\n",
      "- F1 Score : 1.0000\n",
      "- Precision : 1.0000\n",
      "- Recall : 1.0000\n",
      "- Roc Acu Score : 1.0000\n",
      "- COST : 500.\n",
      "--------------------------------\n",
      "Model Performance for Test set\n",
      "- Accuracy :  0.9956\n",
      "- F1 Score : 0.9956\n",
      "- Precision : 0.9928\n",
      "- Recall : 0.9984\n",
      "- Roc Acu Score : 0.9956\n",
      "- COST : 6010.\n",
      "===================================\n",
      "\n",
      "\n",
      "CatBoost Classifier\n",
      "Model Performance for Training set\n",
      "- Accuracy :  0.9995\n",
      "- F1 Score : 0.9995\n",
      "- Precision : 0.9996\n",
      "- Recall : 0.9995\n",
      "- Roc Acu Score : 0.9995\n",
      "- COST : 7120.\n",
      "--------------------------------\n",
      "Model Performance for Test set\n",
      "- Accuracy :  0.9937\n",
      "- F1 Score : 0.9938\n",
      "- Precision : 0.9892\n",
      "- Recall : 0.9984\n",
      "- Roc Acu Score : 0.9937\n",
      "- COST : 6270.\n",
      "===================================\n",
      "\n",
      "\n",
      "AdaBoost Classifier\n",
      "Model Performance for Training set\n",
      "- Accuracy :  0.9696\n",
      "- F1 Score : 0.9696\n",
      "- Precision : 0.9656\n",
      "- Recall : 0.9737\n",
      "- Roc Acu Score : 0.9696\n",
      "- COST : 377710.\n",
      "--------------------------------\n",
      "Model Performance for Test set\n",
      "- Accuracy :  0.9695\n",
      "- F1 Score : 0.9699\n",
      "- Precision : 0.9645\n",
      "- Recall : 0.9754\n",
      "- Roc Acu Score : 0.9694\n",
      "- COST : 89540.\n",
      "===================================\n",
      "\n",
      "\n"
     ]
    }
   ],
   "source": [
    "# Training the models\n",
    "\n",
    "report_median = evaluate_models(X_res, y_res, models)"
   ]
  },
  {
   "cell_type": "markdown",
   "id": "ffbdc360",
   "metadata": {},
   "source": [
    "**Report Simple Imputer with median strategy**"
   ]
  },
  {
   "cell_type": "code",
   "execution_count": 29,
   "id": "6e268bcd",
   "metadata": {},
   "outputs": [
    {
     "data": {
      "text/html": [
       "<div>\n",
       "<style scoped>\n",
       "    .dataframe tbody tr th:only-of-type {\n",
       "        vertical-align: middle;\n",
       "    }\n",
       "\n",
       "    .dataframe tbody tr th {\n",
       "        vertical-align: top;\n",
       "    }\n",
       "\n",
       "    .dataframe thead th {\n",
       "        text-align: right;\n",
       "    }\n",
       "</style>\n",
       "<table border=\"1\" class=\"dataframe\">\n",
       "  <thead>\n",
       "    <tr style=\"text-align: right;\">\n",
       "      <th></th>\n",
       "      <th>Model_Name</th>\n",
       "      <th>Cost</th>\n",
       "    </tr>\n",
       "  </thead>\n",
       "  <tbody>\n",
       "    <tr>\n",
       "      <th>5</th>\n",
       "      <td>XGB Classifier</td>\n",
       "      <td>6010</td>\n",
       "    </tr>\n",
       "    <tr>\n",
       "      <th>6</th>\n",
       "      <td>CatBoost Classifier</td>\n",
       "      <td>6270</td>\n",
       "    </tr>\n",
       "    <tr>\n",
       "      <th>0</th>\n",
       "      <td>Random Forest</td>\n",
       "      <td>10460</td>\n",
       "    </tr>\n",
       "    <tr>\n",
       "      <th>1</th>\n",
       "      <td>Decision Tree</td>\n",
       "      <td>32880</td>\n",
       "    </tr>\n",
       "    <tr>\n",
       "      <th>2</th>\n",
       "      <td>Gradient Boosting</td>\n",
       "      <td>48240</td>\n",
       "    </tr>\n",
       "    <tr>\n",
       "      <th>4</th>\n",
       "      <td>K-Neighbors Classifier</td>\n",
       "      <td>54430</td>\n",
       "    </tr>\n",
       "    <tr>\n",
       "      <th>7</th>\n",
       "      <td>AdaBoost Classifier</td>\n",
       "      <td>89540</td>\n",
       "    </tr>\n",
       "    <tr>\n",
       "      <th>3</th>\n",
       "      <td>Logistic Regression</td>\n",
       "      <td>305130</td>\n",
       "    </tr>\n",
       "  </tbody>\n",
       "</table>\n",
       "</div>"
      ],
      "text/plain": [
       "               Model_Name    Cost\n",
       "5          XGB Classifier    6010\n",
       "6     CatBoost Classifier    6270\n",
       "0           Random Forest   10460\n",
       "1           Decision Tree   32880\n",
       "2       Gradient Boosting   48240\n",
       "4  K-Neighbors Classifier   54430\n",
       "7     AdaBoost Classifier   89540\n",
       "3     Logistic Regression  305130"
      ]
     },
     "execution_count": 29,
     "metadata": {},
     "output_type": "execute_result"
    }
   ],
   "source": [
    "report_median"
   ]
  },
  {
   "cell_type": "markdown",
   "metadata": {},
   "source": [
    "**Insights**\n",
    "\n",
    "- For the Experiments2 : Simple Imputer with median strategy has Catboost classifier as the best model\n",
    "- Proceeding with further experiments\n",
    "\n",
    "**Experiment: 3 = MICE for Imputing Null values**\n",
    "\n",
    "- MICE stands for multivariate imputation by chained equations algorithm\n",
    "- This technique by which we can effortlesly impute missing values in a dataset by looking at data from other columns and trying to estimate the best prediction for each missing value.\n",
    "- ImputationKernel Creates a kernel dataset. This dataset can perform MICE on itself, and imputer new data from models obtained during MICE."
   ]
  },
  {
   "cell_type": "code",
   "execution_count": 30,
   "id": "dfd30002",
   "metadata": {},
   "outputs": [],
   "source": [
    "import miceforest as mf\n",
    "\n",
    "\n",
    "X_mice = X.copy()\n",
    "kernel = mf.ImputationKernel(X_mice, save_all_iterations_data = True, random_state = 1989)    # Run the MICE algorithm for 3 iterations kernel.mice(3)"
   ]
  },
  {
   "cell_type": "code",
   "execution_count": 31,
   "id": "67947618",
   "metadata": {},
   "outputs": [],
   "source": [
    "X_mice = kernel.complete_data()"
   ]
  },
  {
   "cell_type": "code",
   "execution_count": 32,
   "id": "5ff90973",
   "metadata": {},
   "outputs": [],
   "source": [
    "# fit robust scaler\n",
    "\n",
    "mice_pipeline = Pipeline(steps=[\n",
    "    (\"RobustScaler\", RobustScaler())\n",
    "])"
   ]
  },
  {
   "cell_type": "code",
   "execution_count": 33,
   "id": "6155fb51",
   "metadata": {},
   "outputs": [],
   "source": [
    "# fit X with Mice Imputer\n",
    "\n",
    "X_mice = mice_pipeline.fit_transform(X_mice)"
   ]
  },
  {
   "cell_type": "code",
   "execution_count": 34,
   "id": "0d96fbf8",
   "metadata": {},
   "outputs": [],
   "source": [
    "# Resampling the minority class. The strategy can be changed as required.\n",
    "\n",
    "smt = SMOTETomek(random_state=42, sampling_strategy='minority', n_jobs=-1)\n",
    "\n",
    "# fit the model to genrate the data\n",
    "X_res, y_res = smt.fit_resample(X_mice, y)"
   ]
  },
  {
   "cell_type": "code",
   "execution_count": 35,
   "id": "8ad32353",
   "metadata": {},
   "outputs": [
    {
     "name": "stdout",
     "output_type": "stream",
     "text": [
      "Random Forest\n",
      "Model Performance for Training set\n",
      "- Accuracy :  1.0000\n",
      "- F1 Score : 1.0000\n",
      "- Precision : 1.0000\n",
      "- Recall : 1.0000\n",
      "- Roc Acu Score : 1.0000\n",
      "- COST : 0.\n",
      "--------------------------------\n",
      "Model Performance for Test set\n",
      "- Accuracy :  0.9888\n",
      "- F1 Score : 0.9889\n",
      "- Precision : 0.9827\n",
      "- Recall : 0.9952\n",
      "- Roc Acu Score : 0.9888\n",
      "- COST : 18230.\n",
      "===================================\n",
      "\n",
      "\n",
      "Decision Tree\n",
      "Model Performance for Training set\n",
      "- Accuracy :  1.0000\n",
      "- F1 Score : 1.0000\n",
      "- Precision : 1.0000\n",
      "- Recall : 1.0000\n",
      "- Roc Acu Score : 1.0000\n",
      "- COST : 0.\n",
      "--------------------------------\n",
      "Model Performance for Test set\n",
      "- Accuracy :  0.9818\n",
      "- F1 Score : 0.9819\n",
      "- Precision : 0.9770\n",
      "- Recall : 0.9869\n",
      "- Roc Acu Score : 0.9818\n",
      "- COST : 47630.\n",
      "===================================\n",
      "\n",
      "\n",
      "Gradient Boosting\n",
      "Model Performance for Training set\n",
      "- Accuracy :  0.9848\n",
      "- F1 Score : 0.9848\n",
      "- Precision : 0.9819\n",
      "- Recall : 0.9878\n",
      "- Roc Acu Score : 0.9848\n",
      "- COST : 176600.\n",
      "--------------------------------\n",
      "Model Performance for Test set\n",
      "- Accuracy :  0.9803\n",
      "- F1 Score : 0.9805\n",
      "- Precision : 0.9740\n",
      "- Recall : 0.9870\n",
      "- Roc Acu Score : 0.9803\n",
      "- COST : 47350.\n",
      "===================================\n",
      "\n",
      "\n",
      "Logistic Regression\n",
      "Model Performance for Training set\n",
      "- Accuracy :  0.6057\n",
      "- F1 Score : 0.7096\n",
      "- Precision : 0.5615\n",
      "- Recall : 0.9640\n",
      "- Roc Acu Score : 0.6058\n",
      "- COST : 714980.\n",
      "--------------------------------\n",
      "Model Performance for Test set\n",
      "- Accuracy :  0.6074\n",
      "- F1 Score : 0.7118\n",
      "- Precision : 0.5629\n",
      "- Recall : 0.9678\n",
      "- Roc Acu Score : 0.6068\n",
      "- COST : 165760.\n",
      "===================================\n",
      "\n",
      "\n",
      "K-Neighbors Classifier\n",
      "Model Performance for Training set\n",
      "- Accuracy :  0.9792\n",
      "- F1 Score : 0.9795\n",
      "- Precision : 0.9684\n",
      "- Recall : 0.9908\n",
      "- Roc Acu Score : 0.9792\n",
      "- COST : 138550.\n",
      "--------------------------------\n",
      "Model Performance for Test set\n",
      "- Accuracy :  0.9686\n",
      "- F1 Score : 0.9692\n",
      "- Precision : 0.9535\n",
      "- Recall : 0.9853\n",
      "- Roc Acu Score : 0.9686\n",
      "- COST : 54870.\n",
      "===================================\n",
      "\n",
      "\n",
      "XGB Classifier\n",
      "Model Performance for Training set\n",
      "- Accuracy :  1.0000\n",
      "- F1 Score : 1.0000\n",
      "- Precision : 1.0000\n",
      "- Recall : 1.0000\n",
      "- Roc Acu Score : 1.0000\n",
      "- COST : 0.\n",
      "--------------------------------\n",
      "Model Performance for Test set\n",
      "- Accuracy :  0.9940\n",
      "- F1 Score : 0.9940\n",
      "- Precision : 0.9905\n",
      "- Recall : 0.9976\n",
      "- Roc Acu Score : 0.9940\n",
      "- COST : 9170.\n",
      "===================================\n",
      "\n",
      "\n",
      "CatBoost Classifier\n",
      "Model Performance for Training set\n",
      "- Accuracy :  0.9994\n",
      "- F1 Score : 0.9994\n",
      "- Precision : 0.9995\n",
      "- Recall : 0.9994\n",
      "- Roc Acu Score : 0.9994\n",
      "- COST : 8150.\n",
      "--------------------------------\n",
      "Model Performance for Test set\n",
      "- Accuracy :  0.9930\n",
      "- F1 Score : 0.9930\n",
      "- Precision : 0.9902\n",
      "- Recall : 0.9959\n",
      "- Roc Acu Score : 0.9930\n",
      "- COST : 15190.\n",
      "===================================\n",
      "\n",
      "\n",
      "AdaBoost Classifier\n",
      "Model Performance for Training set\n",
      "- Accuracy :  0.9718\n",
      "- F1 Score : 0.9719\n",
      "- Precision : 0.9687\n",
      "- Recall : 0.9751\n",
      "- Roc Acu Score : 0.9718\n",
      "- COST : 357830.\n",
      "--------------------------------\n",
      "Model Performance for Test set\n",
      "- Accuracy :  0.9695\n",
      "- F1 Score : 0.9697\n",
      "- Precision : 0.9649\n",
      "- Recall : 0.9746\n",
      "- Roc Acu Score : 0.9695\n",
      "- COST : 91490.\n",
      "===================================\n",
      "\n",
      "\n"
     ]
    }
   ],
   "source": [
    "# Training the models\n",
    "\n",
    "report_mice = evaluate_models(X_res, y_res, models)"
   ]
  },
  {
   "cell_type": "markdown",
   "id": "3f8b9325",
   "metadata": {},
   "source": [
    "**Report for MICE Imputer algorithm**"
   ]
  },
  {
   "cell_type": "code",
   "execution_count": 36,
   "id": "01e64930",
   "metadata": {},
   "outputs": [
    {
     "data": {
      "text/html": [
       "<div>\n",
       "<style scoped>\n",
       "    .dataframe tbody tr th:only-of-type {\n",
       "        vertical-align: middle;\n",
       "    }\n",
       "\n",
       "    .dataframe tbody tr th {\n",
       "        vertical-align: top;\n",
       "    }\n",
       "\n",
       "    .dataframe thead th {\n",
       "        text-align: right;\n",
       "    }\n",
       "</style>\n",
       "<table border=\"1\" class=\"dataframe\">\n",
       "  <thead>\n",
       "    <tr style=\"text-align: right;\">\n",
       "      <th></th>\n",
       "      <th>Model_Name</th>\n",
       "      <th>Cost</th>\n",
       "    </tr>\n",
       "  </thead>\n",
       "  <tbody>\n",
       "    <tr>\n",
       "      <th>5</th>\n",
       "      <td>XGB Classifier</td>\n",
       "      <td>9170</td>\n",
       "    </tr>\n",
       "    <tr>\n",
       "      <th>6</th>\n",
       "      <td>CatBoost Classifier</td>\n",
       "      <td>15190</td>\n",
       "    </tr>\n",
       "    <tr>\n",
       "      <th>0</th>\n",
       "      <td>Random Forest</td>\n",
       "      <td>18230</td>\n",
       "    </tr>\n",
       "    <tr>\n",
       "      <th>2</th>\n",
       "      <td>Gradient Boosting</td>\n",
       "      <td>47350</td>\n",
       "    </tr>\n",
       "    <tr>\n",
       "      <th>1</th>\n",
       "      <td>Decision Tree</td>\n",
       "      <td>47630</td>\n",
       "    </tr>\n",
       "    <tr>\n",
       "      <th>4</th>\n",
       "      <td>K-Neighbors Classifier</td>\n",
       "      <td>54870</td>\n",
       "    </tr>\n",
       "    <tr>\n",
       "      <th>7</th>\n",
       "      <td>AdaBoost Classifier</td>\n",
       "      <td>91490</td>\n",
       "    </tr>\n",
       "    <tr>\n",
       "      <th>3</th>\n",
       "      <td>Logistic Regression</td>\n",
       "      <td>165760</td>\n",
       "    </tr>\n",
       "  </tbody>\n",
       "</table>\n",
       "</div>"
      ],
      "text/plain": [
       "               Model_Name    Cost\n",
       "5          XGB Classifier    9170\n",
       "6     CatBoost Classifier   15190\n",
       "0           Random Forest   18230\n",
       "2       Gradient Boosting   47350\n",
       "1           Decision Tree   47630\n",
       "4  K-Neighbors Classifier   54870\n",
       "7     AdaBoost Classifier   91490\n",
       "3     Logistic Regression  165760"
      ]
     },
     "execution_count": 36,
     "metadata": {},
     "output_type": "execute_result"
    }
   ],
   "source": [
    "report_mice"
   ]
  },
  {
   "cell_type": "markdown",
   "id": "35ca4dc6",
   "metadata": {},
   "source": [
    "**Insights**\n",
    "\n",
    "- For the Experiment 3: Mice imputer has XGBoost classifier as the best model\n",
    "- Proceeding with further experiments\n",
    "\n",
    "\n",
    "**Experiment: 4 = Simple Imputer with Strategy Constant**\n",
    "\n",
    "- Another strategy which can be used is replacing missing values with a fixed (constant)value.\n",
    "- To do this, specify \"constant\" for strategy and specify the fill value using fill_value parameter"
   ]
  },
  {
   "cell_type": "code",
   "execution_count": 37,
   "id": "d1509008",
   "metadata": {},
   "outputs": [],
   "source": [
    "# Create a pipeline with simple imputer with strategy constant and fill value 0\n",
    "\n",
    "constant_pipeline = Pipeline(steps=[\n",
    "    (\"IMputer\", SimpleImputer(strategy='constant', fill_value=0)),\n",
    "    (\"RobustScaler\", RobustScaler())\n",
    "])"
   ]
  },
  {
   "cell_type": "code",
   "execution_count": 38,
   "id": "86e5a97c",
   "metadata": {},
   "outputs": [],
   "source": [
    "X_const = constant_pipeline.fit_transform(X)"
   ]
  },
  {
   "cell_type": "code",
   "execution_count": 39,
   "id": "942848a5",
   "metadata": {},
   "outputs": [],
   "source": [
    "# Resampling the minority class. The strategy can be changed as required.\n",
    "\n",
    "smt = SMOTETomek(random_state=42, sampling_strategy='minority', n_jobs=-1)\n",
    "\n",
    "# fit the model to generate the data.\n",
    "\n",
    "X_res, y_res = smt.fit_resample(X_const, y)"
   ]
  },
  {
   "cell_type": "code",
   "execution_count": 40,
   "id": "a29f7d72",
   "metadata": {},
   "outputs": [
    {
     "name": "stdout",
     "output_type": "stream",
     "text": [
      "Random Forest\n",
      "Model Performance for Training set\n",
      "- Accuracy :  1.0000\n",
      "- F1 Score : 1.0000\n",
      "- Precision : 1.0000\n",
      "- Recall : 1.0000\n",
      "- Roc Acu Score : 1.0000\n",
      "- COST : 0.\n",
      "--------------------------------\n",
      "Model Performance for Test set\n",
      "- Accuracy :  0.9932\n",
      "- F1 Score : 0.9932\n",
      "- Precision : 0.9898\n",
      "- Recall : 0.9966\n",
      "- Roc Acu Score : 0.9931\n",
      "- COST : 12720.\n",
      "===================================\n",
      "\n",
      "\n",
      "Decision Tree\n",
      "Model Performance for Training set\n",
      "- Accuracy :  1.0000\n",
      "- F1 Score : 1.0000\n",
      "- Precision : 1.0000\n",
      "- Recall : 1.0000\n",
      "- Roc Acu Score : 1.0000\n",
      "- COST : 0.\n",
      "--------------------------------\n",
      "Model Performance for Test set\n",
      "- Accuracy :  0.9872\n",
      "- F1 Score : 0.9874\n",
      "- Precision : 0.9815\n",
      "- Recall : 0.9933\n",
      "- Roc Acu Score : 0.9872\n",
      "- COST : 24820.\n",
      "===================================\n",
      "\n",
      "\n",
      "Gradient Boosting\n",
      "Model Performance for Training set\n",
      "- Accuracy :  0.9830\n",
      "- F1 Score : 0.9830\n",
      "- Precision : 0.9803\n",
      "- Recall : 0.9857\n",
      "- Roc Acu Score : 0.9830\n",
      "- COST : 205550.\n",
      "--------------------------------\n",
      "Model Performance for Test set\n",
      "- Accuracy :  0.9807\n",
      "- F1 Score : 0.9808\n",
      "- Precision : 0.9771\n",
      "- Recall : 0.9845\n",
      "- Roc Acu Score : 0.9807\n",
      "- COST : 56120.\n",
      "===================================\n",
      "\n",
      "\n",
      "Logistic Regression\n",
      "Model Performance for Training set\n",
      "- Accuracy :  0.6691\n",
      "- F1 Score : 0.7471\n",
      "- Precision : 0.6043\n",
      "- Recall : 0.9783\n",
      "- Roc Acu Score : 0.6693\n",
      "- COST : 483080.\n",
      "--------------------------------\n",
      "Model Performance for Test set\n",
      "- Accuracy :  0.6685\n",
      "- F1 Score : 0.7478\n",
      "- Precision : 0.6046\n",
      "- Recall : 0.9800\n",
      "- Roc Acu Score : 0.6677\n",
      "- COST : 115580.\n",
      "===================================\n",
      "\n",
      "\n",
      "K-Neighbors Classifier\n",
      "Model Performance for Training set\n",
      "- Accuracy :  0.9803\n",
      "- F1 Score : 0.9805\n",
      "- Precision : 0.9682\n",
      "- Recall : 0.9932\n",
      "- Roc Acu Score : 0.9803\n",
      "- COST : 105130.\n",
      "--------------------------------\n",
      "Model Performance for Test set\n",
      "- Accuracy :  0.9750\n",
      "- F1 Score : 0.9754\n",
      "- Precision : 0.9626\n",
      "- Recall : 0.9885\n",
      "- Roc Acu Score : 0.9749\n",
      "- COST : 43200.\n",
      "===================================\n",
      "\n",
      "\n",
      "XGB Classifier\n",
      "Model Performance for Training set\n",
      "- Accuracy :  1.0000\n",
      "- F1 Score : 1.0000\n",
      "- Precision : 1.0000\n",
      "- Recall : 1.0000\n",
      "- Roc Acu Score : 1.0000\n",
      "- COST : 0.\n",
      "--------------------------------\n",
      "Model Performance for Test set\n",
      "- Accuracy :  0.9966\n",
      "- F1 Score : 0.9966\n",
      "- Precision : 0.9938\n",
      "- Recall : 0.9994\n",
      "- Roc Acu Score : 0.9966\n",
      "- COST : 2440.\n",
      "===================================\n",
      "\n",
      "\n",
      "CatBoost Classifier\n",
      "Model Performance for Training set\n",
      "- Accuracy :  0.9995\n",
      "- F1 Score : 0.9995\n",
      "- Precision : 0.9995\n",
      "- Recall : 0.9995\n",
      "- Roc Acu Score : 0.9995\n",
      "- COST : 7650.\n",
      "--------------------------------\n",
      "Model Performance for Test set\n",
      "- Accuracy :  0.9962\n",
      "- F1 Score : 0.9962\n",
      "- Precision : 0.9934\n",
      "- Recall : 0.9990\n",
      "- Roc Acu Score : 0.9961\n",
      "- COST : 3970.\n",
      "===================================\n",
      "\n",
      "\n",
      "AdaBoost Classifier\n",
      "Model Performance for Training set\n",
      "- Accuracy :  0.9670\n",
      "- F1 Score : 0.9672\n",
      "- Precision : 0.9605\n",
      "- Recall : 0.9739\n",
      "- Roc Acu Score : 0.9670\n",
      "- COST : 376720.\n",
      "--------------------------------\n",
      "Model Performance for Test set\n",
      "- Accuracy :  0.9679\n",
      "- F1 Score : 0.9682\n",
      "- Precision : 0.9620\n",
      "- Recall : 0.9745\n",
      "- Roc Acu Score : 0.9679\n",
      "- COST : 92210.\n",
      "===================================\n",
      "\n",
      "\n"
     ]
    }
   ],
   "source": [
    "# training the models\n",
    "\n",
    "\n",
    "report_const = evaluate_models(X_res, y_res, models)"
   ]
  },
  {
   "cell_type": "markdown",
   "id": "e1db38d4",
   "metadata": {},
   "source": [
    "**Report for Simple Imputer with Constant strategy**"
   ]
  },
  {
   "cell_type": "code",
   "execution_count": 41,
   "id": "029a4866",
   "metadata": {},
   "outputs": [
    {
     "data": {
      "text/html": [
       "<div>\n",
       "<style scoped>\n",
       "    .dataframe tbody tr th:only-of-type {\n",
       "        vertical-align: middle;\n",
       "    }\n",
       "\n",
       "    .dataframe tbody tr th {\n",
       "        vertical-align: top;\n",
       "    }\n",
       "\n",
       "    .dataframe thead th {\n",
       "        text-align: right;\n",
       "    }\n",
       "</style>\n",
       "<table border=\"1\" class=\"dataframe\">\n",
       "  <thead>\n",
       "    <tr style=\"text-align: right;\">\n",
       "      <th></th>\n",
       "      <th>Model_Name</th>\n",
       "      <th>Cost</th>\n",
       "    </tr>\n",
       "  </thead>\n",
       "  <tbody>\n",
       "    <tr>\n",
       "      <th>5</th>\n",
       "      <td>XGB Classifier</td>\n",
       "      <td>2440</td>\n",
       "    </tr>\n",
       "    <tr>\n",
       "      <th>6</th>\n",
       "      <td>CatBoost Classifier</td>\n",
       "      <td>3970</td>\n",
       "    </tr>\n",
       "    <tr>\n",
       "      <th>0</th>\n",
       "      <td>Random Forest</td>\n",
       "      <td>12720</td>\n",
       "    </tr>\n",
       "    <tr>\n",
       "      <th>1</th>\n",
       "      <td>Decision Tree</td>\n",
       "      <td>24820</td>\n",
       "    </tr>\n",
       "    <tr>\n",
       "      <th>4</th>\n",
       "      <td>K-Neighbors Classifier</td>\n",
       "      <td>43200</td>\n",
       "    </tr>\n",
       "    <tr>\n",
       "      <th>2</th>\n",
       "      <td>Gradient Boosting</td>\n",
       "      <td>56120</td>\n",
       "    </tr>\n",
       "    <tr>\n",
       "      <th>7</th>\n",
       "      <td>AdaBoost Classifier</td>\n",
       "      <td>92210</td>\n",
       "    </tr>\n",
       "    <tr>\n",
       "      <th>3</th>\n",
       "      <td>Logistic Regression</td>\n",
       "      <td>115580</td>\n",
       "    </tr>\n",
       "  </tbody>\n",
       "</table>\n",
       "</div>"
      ],
      "text/plain": [
       "               Model_Name    Cost\n",
       "5          XGB Classifier    2440\n",
       "6     CatBoost Classifier    3970\n",
       "0           Random Forest   12720\n",
       "1           Decision Tree   24820\n",
       "4  K-Neighbors Classifier   43200\n",
       "2       Gradient Boosting   56120\n",
       "7     AdaBoost Classifier   92210\n",
       "3     Logistic Regression  115580"
      ]
     },
     "execution_count": 41,
     "metadata": {},
     "output_type": "execute_result"
    }
   ],
   "source": [
    "report_const"
   ]
  },
  {
   "cell_type": "markdown",
   "id": "be8a74ae",
   "metadata": {},
   "source": [
    "**Insights**\n",
    "\n",
    "- For the Experiment 4: Simple imputer with constant strategy has XGBoost classifier as the best Model\n",
    "- Proceeding with further experiments\n",
    "\n",
    "\n",
    "**Experiment: 5 = Simple Imputer with Strategy Mean**\n",
    "\n",
    "- Another strategy which can be used is replacing missing values with mean\n",
    "- Here we replace the missing values with the mean of the column"
   ]
  },
  {
   "cell_type": "code",
   "execution_count": 42,
   "id": "843d448c",
   "metadata": {},
   "outputs": [],
   "source": [
    "# # Create a pipeline with Simple imputer with strategy mean\n",
    "\n",
    "mean_pipeline = Pipeline(steps=[\n",
    "    (\"Imputer\", SimpleImputer(strategy='mean')),\n",
    "    (\"RobustScaler\", RobustScaler())\n",
    "])"
   ]
  },
  {
   "cell_type": "code",
   "execution_count": 43,
   "id": "4c075438",
   "metadata": {},
   "outputs": [],
   "source": [
    "X_mean = mean_pipeline.fit_transform(X)"
   ]
  },
  {
   "cell_type": "code",
   "execution_count": 44,
   "id": "8bae4078",
   "metadata": {},
   "outputs": [],
   "source": [
    "# Resampling the minority class. The strategy can be changed as required.\n",
    "\n",
    "\n",
    "smt = SMOTETomek(random_state=42, sampling_strategy='minority', n_jobs=-1)\n",
    "\n",
    "# fit the model to generate the data.\n",
    "\n",
    "X_res, y_res = smt.fit_resample(X_mean, y)"
   ]
  },
  {
   "cell_type": "code",
   "execution_count": 45,
   "id": "61e2f99d",
   "metadata": {},
   "outputs": [
    {
     "name": "stdout",
     "output_type": "stream",
     "text": [
      "Random Forest\n",
      "Model Performance for Training set\n",
      "- Accuracy :  1.0000\n",
      "- F1 Score : 1.0000\n",
      "- Precision : 1.0000\n",
      "- Recall : 1.0000\n",
      "- Roc Acu Score : 1.0000\n",
      "- COST : 0.\n",
      "--------------------------------\n",
      "Model Performance for Test set\n",
      "- Accuracy :  0.9942\n",
      "- F1 Score : 0.9942\n",
      "- Precision : 0.9901\n",
      "- Recall : 0.9983\n",
      "- Roc Acu Score : 0.9943\n",
      "- COST : 6690.\n",
      "===================================\n",
      "\n",
      "\n",
      "Decision Tree\n",
      "Model Performance for Training set\n",
      "- Accuracy :  1.0000\n",
      "- F1 Score : 1.0000\n",
      "- Precision : 1.0000\n",
      "- Recall : 1.0000\n",
      "- Roc Acu Score : 1.0000\n",
      "- COST : 0.\n",
      "--------------------------------\n",
      "Model Performance for Test set\n",
      "- Accuracy :  0.9867\n",
      "- F1 Score : 0.9866\n",
      "- Precision : 0.9834\n",
      "- Recall : 0.9898\n",
      "- Roc Acu Score : 0.9867\n",
      "- COST : 36660.\n",
      "===================================\n",
      "\n",
      "\n",
      "Gradient Boosting\n",
      "Model Performance for Training set\n",
      "- Accuracy :  0.9856\n",
      "- F1 Score : 0.9857\n",
      "- Precision : 0.9828\n",
      "- Recall : 0.9886\n",
      "- Roc Acu Score : 0.9856\n",
      "- COST : 164880.\n",
      "--------------------------------\n",
      "Model Performance for Test set\n",
      "- Accuracy :  0.9864\n",
      "- F1 Score : 0.9863\n",
      "- Precision : 0.9834\n",
      "- Recall : 0.9892\n",
      "- Roc Acu Score : 0.9864\n",
      "- COST : 38660.\n",
      "===================================\n",
      "\n",
      "\n",
      "Logistic Regression\n",
      "Model Performance for Training set\n",
      "- Accuracy :  0.6660\n",
      "- F1 Score : 0.7337\n",
      "- Precision : 0.6112\n",
      "- Recall : 0.9175\n",
      "- Roc Acu Score : 0.6653\n",
      "- COST : 1325220.\n",
      "--------------------------------\n",
      "Model Performance for Test set\n",
      "- Accuracy :  0.6654\n",
      "- F1 Score : 0.7317\n",
      "- Precision : 0.6058\n",
      "- Recall : 0.9237\n",
      "- Roc Acu Score : 0.6684\n",
      "- COST : 306160.\n",
      "===================================\n",
      "\n",
      "\n",
      "K-Neighbors Classifier\n",
      "Model Performance for Training set\n",
      "- Accuracy :  0.9816\n",
      "- F1 Score : 0.9819\n",
      "- Precision : 0.9711\n",
      "- Recall : 0.9929\n",
      "- Roc Acu Score : 0.9816\n",
      "- COST : 107820.\n",
      "--------------------------------\n",
      "Model Performance for Test set\n",
      "- Accuracy :  0.9743\n",
      "- F1 Score : 0.9743\n",
      "- Precision : 0.9611\n",
      "- Recall : 0.9879\n",
      "- Roc Acu Score : 0.9744\n",
      "- COST : 44770.\n",
      "===================================\n",
      "\n",
      "\n",
      "XGB Classifier\n",
      "Model Performance for Training set\n",
      "- Accuracy :  1.0000\n",
      "- F1 Score : 1.0000\n",
      "- Precision : 1.0000\n",
      "- Recall : 1.0000\n",
      "- Roc Acu Score : 1.0000\n",
      "- COST : 500.\n",
      "--------------------------------\n",
      "Model Performance for Test set\n",
      "- Accuracy :  0.9967\n",
      "- F1 Score : 0.9967\n",
      "- Precision : 0.9938\n",
      "- Recall : 0.9996\n",
      "- Roc Acu Score : 0.9968\n",
      "- COST : 1930.\n",
      "===================================\n",
      "\n",
      "\n",
      "CatBoost Classifier\n",
      "Model Performance for Training set\n",
      "- Accuracy :  0.9992\n",
      "- F1 Score : 0.9992\n",
      "- Precision : 0.9993\n",
      "- Recall : 0.9990\n",
      "- Roc Acu Score : 0.9992\n",
      "- COST : 13690.\n",
      "--------------------------------\n",
      "Model Performance for Test set\n",
      "- Accuracy :  0.9955\n",
      "- F1 Score : 0.9955\n",
      "- Precision : 0.9931\n",
      "- Recall : 0.9978\n",
      "- Roc Acu Score : 0.9955\n",
      "- COST : 7980.\n",
      "===================================\n",
      "\n",
      "\n",
      "AdaBoost Classifier\n",
      "Model Performance for Training set\n",
      "- Accuracy :  0.9688\n",
      "- F1 Score : 0.9690\n",
      "- Precision : 0.9659\n",
      "- Recall : 0.9722\n",
      "- Roc Acu Score : 0.9688\n",
      "- COST : 400670.\n",
      "--------------------------------\n",
      "Model Performance for Test set\n",
      "- Accuracy :  0.9722\n",
      "- F1 Score : 0.9719\n",
      "- Precision : 0.9696\n",
      "- Recall : 0.9743\n",
      "- Roc Acu Score : 0.9722\n",
      "- COST : 91120.\n",
      "===================================\n",
      "\n",
      "\n"
     ]
    }
   ],
   "source": [
    "# Training all models\n",
    "\n",
    "report_mean = evaluate_models(X_res, y_res, models)"
   ]
  },
  {
   "cell_type": "markdown",
   "id": "024611d9",
   "metadata": {},
   "source": [
    "**Report for Simple imputer with strategy mean**"
   ]
  },
  {
   "cell_type": "code",
   "execution_count": 46,
   "id": "c8b2d063",
   "metadata": {},
   "outputs": [
    {
     "data": {
      "text/html": [
       "<div>\n",
       "<style scoped>\n",
       "    .dataframe tbody tr th:only-of-type {\n",
       "        vertical-align: middle;\n",
       "    }\n",
       "\n",
       "    .dataframe tbody tr th {\n",
       "        vertical-align: top;\n",
       "    }\n",
       "\n",
       "    .dataframe thead th {\n",
       "        text-align: right;\n",
       "    }\n",
       "</style>\n",
       "<table border=\"1\" class=\"dataframe\">\n",
       "  <thead>\n",
       "    <tr style=\"text-align: right;\">\n",
       "      <th></th>\n",
       "      <th>Model_Name</th>\n",
       "      <th>Cost</th>\n",
       "    </tr>\n",
       "  </thead>\n",
       "  <tbody>\n",
       "    <tr>\n",
       "      <th>5</th>\n",
       "      <td>XGB Classifier</td>\n",
       "      <td>1930</td>\n",
       "    </tr>\n",
       "    <tr>\n",
       "      <th>0</th>\n",
       "      <td>Random Forest</td>\n",
       "      <td>6690</td>\n",
       "    </tr>\n",
       "    <tr>\n",
       "      <th>6</th>\n",
       "      <td>CatBoost Classifier</td>\n",
       "      <td>7980</td>\n",
       "    </tr>\n",
       "    <tr>\n",
       "      <th>1</th>\n",
       "      <td>Decision Tree</td>\n",
       "      <td>36660</td>\n",
       "    </tr>\n",
       "    <tr>\n",
       "      <th>2</th>\n",
       "      <td>Gradient Boosting</td>\n",
       "      <td>38660</td>\n",
       "    </tr>\n",
       "    <tr>\n",
       "      <th>4</th>\n",
       "      <td>K-Neighbors Classifier</td>\n",
       "      <td>44770</td>\n",
       "    </tr>\n",
       "    <tr>\n",
       "      <th>7</th>\n",
       "      <td>AdaBoost Classifier</td>\n",
       "      <td>91120</td>\n",
       "    </tr>\n",
       "    <tr>\n",
       "      <th>3</th>\n",
       "      <td>Logistic Regression</td>\n",
       "      <td>306160</td>\n",
       "    </tr>\n",
       "  </tbody>\n",
       "</table>\n",
       "</div>"
      ],
      "text/plain": [
       "               Model_Name    Cost\n",
       "5          XGB Classifier    1930\n",
       "0           Random Forest    6690\n",
       "6     CatBoost Classifier    7980\n",
       "1           Decision Tree   36660\n",
       "2       Gradient Boosting   38660\n",
       "4  K-Neighbors Classifier   44770\n",
       "7     AdaBoost Classifier   91120\n",
       "3     Logistic Regression  306160"
      ]
     },
     "execution_count": 46,
     "metadata": {},
     "output_type": "execute_result"
    }
   ],
   "source": [
    "report_mean"
   ]
  },
  {
   "cell_type": "markdown",
   "id": "76176cd1",
   "metadata": {},
   "source": [
    "**Experiment: 5 = Principle component analysis with imputing median**\n",
    "\n",
    "- Principal component analysis is a technique for feature extraction — so it combines our input variables in a specific way, then we can drop the “least important” variables while still retaining the most valuable parts of all of the variables!\n",
    "- As the dataset has 164 columns we can try PCA and check our metrics Cost"
   ]
  },
  {
   "cell_type": "code",
   "execution_count": 47,
   "id": "515cfa34",
   "metadata": {},
   "outputs": [],
   "source": [
    "from sklearn.decomposition import PCA"
   ]
  },
  {
   "cell_type": "code",
   "execution_count": 48,
   "id": "8082e78c",
   "metadata": {},
   "outputs": [],
   "source": [
    "pca_pipeline = Pipeline(steps=[\n",
    "    (\"Imputet\", SimpleImputer(strategy='constant', fill_value=0)),\n",
    "    (\"RobustScaler\", RobustScaler())\n",
    "])"
   ]
  },
  {
   "cell_type": "code",
   "execution_count": 49,
   "id": "fd18ee99",
   "metadata": {},
   "outputs": [],
   "source": [
    "X_pca = pca_pipeline.fit_transform(X)"
   ]
  },
  {
   "cell_type": "code",
   "execution_count": 50,
   "id": "58f132df",
   "metadata": {},
   "outputs": [],
   "source": [
    "# Applying PCA\n",
    "\n",
    "\n",
    "var_ratio = {}\n",
    "\n",
    "for i in range(2,150):\n",
    "    pc = PCA(n_components=i)\n",
    "    df_pca = pc.fit(X_pca)\n",
    "    var_ratio[i] = sum(df_pca.explained_variance_ratio_)"
   ]
  },
  {
   "cell_type": "markdown",
   "id": "2100eb53",
   "metadata": {},
   "source": [
    "**Variance Plot**"
   ]
  },
  {
   "cell_type": "code",
   "execution_count": 51,
   "id": "83216c8a",
   "metadata": {},
   "outputs": [
    {
     "data": {
      "text/plain": [
       "<Axes: >"
      ]
     },
     "execution_count": 51,
     "metadata": {},
     "output_type": "execute_result"
    },
    {
     "data": {
      "image/png": "[encoded data removed]",
      "text/plain": [
       "<Figure size 640x480 with 1 Axes>"
      ]
     },
     "metadata": {},
     "output_type": "display_data"
    }
   ],
   "source": [
    "# Plotting variance ratio\n",
    "\n",
    "\n",
    "pd.Series(var_ratio).plot()"
   ]
  },
  {
   "cell_type": "markdown",
   "id": "cabf9d56",
   "metadata": {},
   "source": [
    "**Kneed algorithm to find the elbow point**"
   ]
  },
  {
   "cell_type": "code",
   "execution_count": 52,
   "id": "4fda0042",
   "metadata": {},
   "outputs": [
    {
     "data": {
      "text/plain": [
       "<Figure size 500x500 with 0 Axes>"
      ]
     },
     "metadata": {},
     "output_type": "display_data"
    },
    {
     "data": {
      "image/png": "[encoded data removed]",
      "text/plain": [
       "<Figure size 600x600 with 1 Axes>"
      ]
     },
     "metadata": {},
     "output_type": "display_data"
    },
    {
     "name": "stdout",
     "output_type": "stream",
     "text": [
      "Knee Locator k = 18\n"
     ]
    }
   ],
   "source": [
    "from kneed import KneeLocator\n",
    "\n",
    "\n",
    "\n",
    "i = np.arange(len(var_ratio))\n",
    "variance_ratio = list(var_ratio.values())\n",
    "components = list(var_ratio.keys())\n",
    "knee = KneeLocator(i, variance_ratio, S= 1, curve = 'concave', interp_method = 'polynomial')\n",
    "\n",
    "\n",
    "fig = plt.figure(figsize=(5, 5))\n",
    "knee.plot_knee()\n",
    "plt.xlabel(\"Points\")\n",
    "plt.ylabel(\"Distance\")\n",
    "plt.show()\n",
    "k= components[knee.knee]\n",
    "print('Knee Locator k =', k)"
   ]
  },
  {
   "cell_type": "code",
   "execution_count": 53,
   "id": "6094bcb7",
   "metadata": {},
   "outputs": [],
   "source": [
    "# Reducing the dimensions of the data \n",
    "\n",
    "pca_final = PCA(n_components=18, random_state=42).fit(X_res)\n",
    "\n",
    "reduced = pca_final.fit_transform(X_pca)"
   ]
  },
  {
   "cell_type": "code",
   "execution_count": 54,
   "id": "95074049",
   "metadata": {},
   "outputs": [],
   "source": [
    "#  Resampling the minority class. The strategy can be changed as required.\n",
    "\n",
    "\n",
    "smt = SMOTETomek(random_state=42, sampling_strategy='minority', n_jobs=-1)\n",
    "\n",
    "# fit the model to generate the data.\n",
    "\n",
    "X_res, y_res = smt.fit_resample(reduced, y)"
   ]
  },
  {
   "cell_type": "code",
   "execution_count": 55,
   "id": "95e18ac1",
   "metadata": {},
   "outputs": [
    {
     "name": "stdout",
     "output_type": "stream",
     "text": [
      "Random Forest\n",
      "Model Performance for Training set\n",
      "- Accuracy :  0.9984\n",
      "- F1 Score : 0.9984\n",
      "- Precision : 1.0000\n",
      "- Recall : 0.9969\n",
      "- Roc Acu Score : 0.9984\n",
      "- COST : 44000.\n",
      "--------------------------------\n",
      "Model Performance for Test set\n",
      "- Accuracy :  0.9836\n",
      "- F1 Score : 0.9837\n",
      "- Precision : 0.9757\n",
      "- Recall : 0.9917\n",
      "- Roc Acu Score : 0.9836\n",
      "- COST : 30720.\n",
      "===================================\n",
      "\n",
      "\n",
      "Decision Tree\n",
      "Model Performance for Training set\n",
      "- Accuracy :  0.9984\n",
      "- F1 Score : 0.9984\n",
      "- Precision : 1.0000\n",
      "- Recall : 0.9969\n",
      "- Roc Acu Score : 0.9984\n",
      "- COST : 44000.\n",
      "--------------------------------\n",
      "Model Performance for Test set\n",
      "- Accuracy :  0.9736\n",
      "- F1 Score : 0.9737\n",
      "- Precision : 0.9693\n",
      "- Recall : 0.9781\n",
      "- Roc Acu Score : 0.9736\n",
      "- COST : 78660.\n",
      "===================================\n",
      "\n",
      "\n",
      "Gradient Boosting\n",
      "Model Performance for Training set\n",
      "- Accuracy :  0.9417\n",
      "- F1 Score : 0.9415\n",
      "- Precision : 0.9455\n",
      "- Recall : 0.9375\n",
      "- Roc Acu Score : 0.9417\n",
      "- COST : 889130.\n",
      "--------------------------------\n",
      "Model Performance for Test set\n",
      "- Accuracy :  0.9399\n",
      "- F1 Score : 0.9397\n",
      "- Precision : 0.9418\n",
      "- Recall : 0.9375\n",
      "- Roc Acu Score : 0.9399\n",
      "- COST : 222040.\n",
      "===================================\n",
      "\n",
      "\n",
      "Logistic Regression\n",
      "Model Performance for Training set\n",
      "- Accuracy :  0.8489\n",
      "- F1 Score : 0.8278\n",
      "- Precision : 0.9627\n",
      "- Recall : 0.7260\n",
      "- Roc Acu Score : 0.8489\n",
      "- COST : 3839880.\n",
      "--------------------------------\n",
      "Model Performance for Test set\n",
      "- Accuracy :  0.8508\n",
      "- F1 Score : 0.8304\n",
      "- Precision : 0.9599\n",
      "- Recall : 0.7316\n",
      "- Roc Acu Score : 0.8506\n",
      "- COST : 938630.\n",
      "===================================\n",
      "\n",
      "\n",
      "K-Neighbors Classifier\n",
      "Model Performance for Training set\n",
      "- Accuracy :  0.9724\n",
      "- F1 Score : 0.9726\n",
      "- Precision : 0.9651\n",
      "- Recall : 0.9802\n",
      "- Roc Acu Score : 0.9724\n",
      "- COST : 286920.\n",
      "--------------------------------\n",
      "Model Performance for Test set\n",
      "- Accuracy :  0.9635\n",
      "- F1 Score : 0.9640\n",
      "- Precision : 0.9509\n",
      "- Recall : 0.9774\n",
      "- Roc Acu Score : 0.9636\n",
      "- COST : 82520.\n",
      "===================================\n",
      "\n",
      "\n",
      "XGB Classifier\n",
      "Model Performance for Training set\n",
      "- Accuracy :  0.9883\n",
      "- F1 Score : 0.9883\n",
      "- Precision : 0.9887\n",
      "- Recall : 0.9879\n",
      "- Roc Acu Score : 0.9883\n",
      "- COST : 172160.\n",
      "--------------------------------\n",
      "Model Performance for Test set\n",
      "- Accuracy :  0.9794\n",
      "- F1 Score : 0.9795\n",
      "- Precision : 0.9735\n",
      "- Recall : 0.9855\n",
      "- Roc Acu Score : 0.9794\n",
      "- COST : 52370.\n",
      "===================================\n",
      "\n",
      "\n",
      "CatBoost Classifier\n",
      "Model Performance for Training set\n",
      "- Accuracy :  0.9825\n",
      "- F1 Score : 0.9825\n",
      "- Precision : 0.9811\n",
      "- Recall : 0.9839\n",
      "- Roc Acu Score : 0.9825\n",
      "- COST : 229810.\n",
      "--------------------------------\n",
      "Model Performance for Test set\n",
      "- Accuracy :  0.9718\n",
      "- F1 Score : 0.9720\n",
      "- Precision : 0.9652\n",
      "- Recall : 0.9788\n",
      "- Roc Acu Score : 0.9718\n",
      "- COST : 76460.\n",
      "===================================\n",
      "\n",
      "\n",
      "AdaBoost Classifier\n",
      "Model Performance for Training set\n",
      "- Accuracy :  0.9132\n",
      "- F1 Score : 0.9133\n",
      "- Precision : 0.9128\n",
      "- Recall : 0.9137\n",
      "- Roc Acu Score : 0.9132\n",
      "- COST : 1230920.\n",
      "--------------------------------\n",
      "Model Performance for Test set\n",
      "- Accuracy :  0.9128\n",
      "- F1 Score : 0.9129\n",
      "- Precision : 0.9107\n",
      "- Recall : 0.9150\n",
      "- Roc Acu Score : 0.9128\n",
      "- COST : 302760.\n",
      "===================================\n",
      "\n",
      "\n"
     ]
    }
   ],
   "source": [
    "# Training all models\n",
    "\n",
    "\n",
    "report_pca = evaluate_models(X_res, y_res, models)"
   ]
  },
  {
   "cell_type": "markdown",
   "id": "bf7141eb",
   "metadata": {},
   "source": [
    "**Report for PCA and Mean imputed data**"
   ]
  },
  {
   "cell_type": "code",
   "execution_count": 56,
   "id": "7d57614f",
   "metadata": {},
   "outputs": [
    {
     "data": {
      "text/html": [
       "<div>\n",
       "<style scoped>\n",
       "    .dataframe tbody tr th:only-of-type {\n",
       "        vertical-align: middle;\n",
       "    }\n",
       "\n",
       "    .dataframe tbody tr th {\n",
       "        vertical-align: top;\n",
       "    }\n",
       "\n",
       "    .dataframe thead th {\n",
       "        text-align: right;\n",
       "    }\n",
       "</style>\n",
       "<table border=\"1\" class=\"dataframe\">\n",
       "  <thead>\n",
       "    <tr style=\"text-align: right;\">\n",
       "      <th></th>\n",
       "      <th>Model_Name</th>\n",
       "      <th>Cost</th>\n",
       "    </tr>\n",
       "  </thead>\n",
       "  <tbody>\n",
       "    <tr>\n",
       "      <th>0</th>\n",
       "      <td>Random Forest</td>\n",
       "      <td>30720</td>\n",
       "    </tr>\n",
       "    <tr>\n",
       "      <th>5</th>\n",
       "      <td>XGB Classifier</td>\n",
       "      <td>52370</td>\n",
       "    </tr>\n",
       "    <tr>\n",
       "      <th>6</th>\n",
       "      <td>CatBoost Classifier</td>\n",
       "      <td>76460</td>\n",
       "    </tr>\n",
       "    <tr>\n",
       "      <th>1</th>\n",
       "      <td>Decision Tree</td>\n",
       "      <td>78660</td>\n",
       "    </tr>\n",
       "    <tr>\n",
       "      <th>4</th>\n",
       "      <td>K-Neighbors Classifier</td>\n",
       "      <td>82520</td>\n",
       "    </tr>\n",
       "    <tr>\n",
       "      <th>2</th>\n",
       "      <td>Gradient Boosting</td>\n",
       "      <td>222040</td>\n",
       "    </tr>\n",
       "    <tr>\n",
       "      <th>7</th>\n",
       "      <td>AdaBoost Classifier</td>\n",
       "      <td>302760</td>\n",
       "    </tr>\n",
       "    <tr>\n",
       "      <th>3</th>\n",
       "      <td>Logistic Regression</td>\n",
       "      <td>938630</td>\n",
       "    </tr>\n",
       "  </tbody>\n",
       "</table>\n",
       "</div>"
      ],
      "text/plain": [
       "               Model_Name    Cost\n",
       "0           Random Forest   30720\n",
       "5          XGB Classifier   52370\n",
       "6     CatBoost Classifier   76460\n",
       "1           Decision Tree   78660\n",
       "4  K-Neighbors Classifier   82520\n",
       "2       Gradient Boosting  222040\n",
       "7     AdaBoost Classifier  302760\n",
       "3     Logistic Regression  938630"
      ]
     },
     "execution_count": 56,
     "metadata": {},
     "output_type": "execute_result"
    }
   ],
   "source": [
    "report_pca"
   ]
  },
  {
   "cell_type": "markdown",
   "id": "4ed0dbb3",
   "metadata": {},
   "source": [
    "**Final Model**"
   ]
  },
  {
   "cell_type": "code",
   "execution_count": 57,
   "id": "dc863aaf",
   "metadata": {},
   "outputs": [],
   "source": [
    "from prettytable import PrettyTable"
   ]
  },
  {
   "cell_type": "code",
   "execution_count": 65,
   "id": "9c01f569",
   "metadata": {},
   "outputs": [
    {
     "name": "stdout",
     "output_type": "stream",
     "text": [
      "+----------------+-------------------------+------------+\n",
      "|     Model      |    Imputation_method    | Total_cost |\n",
      "+----------------+-------------------------+------------+\n",
      "| XGBClassifier  |   Simple Imputer-Mean   |    1930    |\n",
      "| XGBClassifier  | Simple Imputer-Constant |    2440    |\n",
      "| XGBClassifier  |       Knn-Imputer       |    5440    |\n",
      "| XGB Classifier |          Median         |    6010    |\n",
      "| XGBClassifier  |           Mice          |    9170    |\n",
      "| Random Forest  |           PCA           |   30720    |\n",
      "+----------------+-------------------------+------------+\n"
     ]
    }
   ],
   "source": [
    "pt = PrettyTable()\n",
    "\n",
    "pt.field_names = [\"Model\", \"Imputation_method\",\"Total_cost\"]\n",
    "pt.add_row([\"XGBClassifier\",\"Simple Imputer-Mean\",\"1930\"])\n",
    "pt.add_row([\"XGBClassifier\", \"Simple Imputer-Constant\", \"2440\"])\n",
    "pt.add_row([\"XGBClassifier\",\"Knn-Imputer\",\"5440\"])\n",
    "pt.add_row([\"XGB Classifier\",\"Median\",\"6010\"])\n",
    "pt.add_row([\"XGBClassifier\", \"Mice\", \"9170\"])\n",
    "pt.add_row([\"Random Forest\",\"PCA\",\"30720\"])\n",
    "print(pt)"
   ]
  },
  {
   "cell_type": "markdown",
   "id": "be14827a",
   "metadata": {},
   "source": [
    "**Report**\n",
    "\n",
    "- From the final report we can see than XGBClassifier with Simple imputer with strategy mean has performed the best with cost of 1930"
   ]
  },
  {
   "cell_type": "markdown",
   "id": "5d7b56f5",
   "metadata": {},
   "source": [
    "**Fitting the Final model and get reports**"
   ]
  },
  {
   "cell_type": "code",
   "execution_count": 66,
   "id": "b688666d",
   "metadata": {},
   "outputs": [],
   "source": [
    "final_model = XGBClassifier()\n",
    "\n",
    "# Resampling the minority class. The strategy can be changed as required.\n",
    "smt = SMOTETomek(random_state=42,sampling_strategy='minority', n_jobs=-1)\n",
    "# Fit the model to generate the data.\n",
    "X_res, y_res = smt.fit_resample(X_mean, y)"
   ]
  },
  {
   "cell_type": "code",
   "execution_count": 67,
   "id": "f28f7b92",
   "metadata": {},
   "outputs": [],
   "source": [
    "X_train, X_test, y_train, y_test = train_test_split(X_res,y_res,test_size=0.2,random_state=42)\n",
    "\n",
    "final_model = final_model.fit(X_train, y_train)\n",
    "y_pred = final_model.predict(X_test)"
   ]
  },
  {
   "cell_type": "code",
   "execution_count": 68,
   "id": "55653ad3",
   "metadata": {},
   "outputs": [
    {
     "name": "stdout",
     "output_type": "stream",
     "text": [
      "Final XGBoost Classifier Accuracy Score (Train) : 0.9999821810406272\n",
      "Final XGBoost Classifier Accuracy Score (Test) : 0.9967213114754099\n"
     ]
    }
   ],
   "source": [
    "print(\"Final XGBoost Classifier Accuracy Score (Train) :\", final_model.score(X_train,y_train))\n",
    "print(\"Final XGBoost Classifier Accuracy Score (Test) :\", accuracy_score(y_pred,y_test))"
   ]
  },
  {
   "cell_type": "code",
   "execution_count": 69,
   "id": "e3f91b94",
   "metadata": {},
   "outputs": [
    {
     "name": "stdout",
     "output_type": "stream",
     "text": [
      "Final XGBoost Classifier Cost Metric(Test) : 1930\n"
     ]
    }
   ],
   "source": [
    "print(\"Final XGBoost Classifier Cost Metric(Test) :\",total_cost(y_test, y_pred))"
   ]
  },
  {
   "cell_type": "code",
   "execution_count": 70,
   "id": "5d0ec2ef",
   "metadata": {},
   "outputs": [
    {
     "data": {
      "text/plain": [
       "<sklearn.metrics._plot.confusion_matrix.ConfusionMatrixDisplay at 0x1c53a726ad0>"
      ]
     },
     "execution_count": 70,
     "metadata": {},
     "output_type": "execute_result"
    },
    {
     "data": {
      "image/png": "[encoded data removed]",
      "text/plain": [
       "<Figure size 640x480 with 2 Axes>"
      ]
     },
     "metadata": {},
     "output_type": "display_data"
    }
   ],
   "source": [
    "from sklearn.metrics import ConfusionMatrixDisplay\n",
    "\n",
    "# Display confusion matrix\n",
    "ConfusionMatrixDisplay.from_estimator(final_model, X_test, y_test, cmap='Blues', values_format='d')\n"
   ]
  },
  {
   "cell_type": "markdown",
   "id": "9544bde8",
   "metadata": {},
   "source": [
    "**The best Model is XGBoost Classifier with 99.6% accuracy and cost of 1930**"
   ]
  },
  {
   "cell_type": "code",
   "execution_count": null,
   "id": "7addd785",
   "metadata": {},
   "outputs": [],
   "source": []
  },
  {
   "cell_type": "code",
   "execution_count": null,
   "id": "bdf25fcc",
   "metadata": {},
   "outputs": [],
   "source": []
  }
 ],
 "metadata": {
  "kernelspec": {
   "display_name": "Python 3",
   "language": "python",
   "name": "python3"
  },
  "language_info": {
   "codemirror_mode": {
    "name": "ipython",
    "version": 3
   },
   "file_extension": ".py",
   "mimetype": "text/x-python",
   "name": "python",
   "nbconvert_exporter": "python",
   "pygments_lexer": "ipython3",
   "version": "3.13.2"
  }
 },
 "nbformat": 4,
 "nbformat_minor": 5
}
